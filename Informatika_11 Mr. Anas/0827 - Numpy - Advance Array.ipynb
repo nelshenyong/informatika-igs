{
 "cells": [
  {
   "cell_type": "code",
   "execution_count": 4,
   "id": "583dcd48-f499-4b11-b6ec-803f0325443d",
   "metadata": {},
   "outputs": [],
   "source": [
    "import numpy as np"
   ]
  },
  {
   "cell_type": "code",
   "execution_count": 6,
   "id": "b8f7784f-1ec5-40a8-8097-8081568864a7",
   "metadata": {},
   "outputs": [
    {
     "name": "stdout",
     "output_type": "stream",
     "text": [
      "[1 2 3 4 5]\n",
      "[1.5 2.5 5.  6.  7. ]\n"
     ]
    }
   ],
   "source": [
    "a = np.array([1, 2, 3, 4, 5])\n",
    "b = np.array([1.5, 2.5, 5, 6, 7])\n",
    "\n",
    "print(a)\n",
    "print(b)"
   ]
  },
  {
   "cell_type": "code",
   "execution_count": 7,
   "id": "57f4dfd4-9dcb-42d8-992c-eaeda089e74a",
   "metadata": {},
   "outputs": [
    {
     "name": "stdout",
     "output_type": "stream",
     "text": [
      "[1 3 5 7 9]\n",
      "[1.  1.5 2.  2.5 3.  3.5 4.  4.5 5.  5.5 6.  6.5 7.  7.5 8.  8.5 9.  9.5]\n"
     ]
    }
   ],
   "source": [
    "c = np.arange(1, 10, 2)\n",
    "\n",
    "print(c)\n",
    "\n",
    "c_2 = np.arange(1, 10, 0.5)\n",
    "print(c_2)"
   ]
  },
  {
   "cell_type": "code",
   "execution_count": 9,
   "id": "f9db967d-c473-42e2-8118-7264e8c10d9b",
   "metadata": {},
   "outputs": [
    {
     "name": "stdout",
     "output_type": "stream",
     "text": [
      "[ 1.  4.  7. 10.]\n"
     ]
    }
   ],
   "source": [
    "d = np.linspace(1, 10, 4)\n",
    "\n",
    "print(d)"
   ]
  },
  {
   "cell_type": "code",
   "execution_count": 10,
   "id": "ad237237-7867-4991-a720-997ff5a485b5",
   "metadata": {},
   "outputs": [
    {
     "name": "stdout",
     "output_type": "stream",
     "text": [
      "[[1 2 3]\n",
      " [4 5 6]]\n",
      "(2, 3)\n"
     ]
    }
   ],
   "source": [
    "# array multidmensi / matrix\n",
    "\n",
    "e = np.array( [ (1, 2, 3) ,\n",
    "                (4, 5, 6)])\n",
    "\n",
    "print(e)\n",
    "print(e.shape)"
   ]
  },
  {
   "cell_type": "code",
   "execution_count": 11,
   "id": "078a879e-3706-4e28-bb67-5b65311b36f5",
   "metadata": {},
   "outputs": [
    {
     "name": "stdout",
     "output_type": "stream",
     "text": [
      "[[0. 0. 0. 0. 0.]\n",
      " [0. 0. 0. 0. 0.]\n",
      " [0. 0. 0. 0. 0.]\n",
      " [0. 0. 0. 0. 0.]\n",
      " [0. 0. 0. 0. 0.]]\n",
      "[[1. 1. 1. 1. 1.]\n",
      " [1. 1. 1. 1. 1.]\n",
      " [1. 1. 1. 1. 1.]\n",
      " [1. 1. 1. 1. 1.]\n",
      " [1. 1. 1. 1. 1.]]\n"
     ]
    }
   ],
   "source": [
    "# matrix dengan nilai nol\n",
    "f = np.zeros((5, 5))\n",
    "print(f)\n",
    "# matrix dengan nilai satu\n",
    "g = np.ones((5, 5))\n",
    "print(g)"
   ]
  },
  {
   "cell_type": "code",
   "execution_count": 13,
   "id": "94bf8be5-62ba-4502-ae33-2a3e170a9906",
   "metadata": {},
   "outputs": [
    {
     "name": "stdout",
     "output_type": "stream",
     "text": [
      "[[1. 0. 0. 0. 0.]\n",
      " [0. 1. 0. 0. 0.]\n",
      " [0. 0. 1. 0. 0.]\n",
      " [0. 0. 0. 1. 0.]\n",
      " [0. 0. 0. 0. 1.]]\n"
     ]
    }
   ],
   "source": [
    "h1 = np.identity(5)\n",
    "\n",
    "print(h1)"
   ]
  },
  {
   "cell_type": "markdown",
   "id": "3672595f-beed-4ad9-b645-038845740f2f",
   "metadata": {},
   "source": [
    "## Operasi Matematika"
   ]
  },
  {
   "cell_type": "code",
   "execution_count": 12,
   "id": "1dc45d17-08b2-422e-8177-637b9654320d",
   "metadata": {},
   "outputs": [
    {
     "data": {
      "text/plain": [
       "array([ 7,  9, 11, 13, 15])"
      ]
     },
     "execution_count": 12,
     "metadata": {},
     "output_type": "execute_result"
    }
   ],
   "source": [
    "a = [1, 2, 3, 4, 5]\n",
    "b = [6, 7, 8, 9, 10]\n",
    "\n",
    "anp = np.array([1, 2, 3, 4, 5])\n",
    "bnp = np.array([6, 7, 8, 9, 10])\n",
    "\n",
    "anp + bnp"
   ]
  },
  {
   "cell_type": "code",
   "execution_count": 14,
   "id": "9919caeb-487a-4747-b947-849aebc06279",
   "metadata": {},
   "outputs": [
    {
     "data": {
      "text/plain": [
       "array([-5, -5, -5, -5, -5])"
      ]
     },
     "execution_count": 14,
     "metadata": {},
     "output_type": "execute_result"
    }
   ],
   "source": [
    "anp - bnp"
   ]
  },
  {
   "cell_type": "code",
   "execution_count": 15,
   "id": "25109258-614b-4000-b801-ac8eb74f48bc",
   "metadata": {},
   "outputs": [
    {
     "data": {
      "text/plain": [
       "array([ 6, 14, 24, 36, 50])"
      ]
     },
     "execution_count": 15,
     "metadata": {},
     "output_type": "execute_result"
    }
   ],
   "source": [
    "anp * bnp"
   ]
  },
  {
   "cell_type": "code",
   "execution_count": 16,
   "id": "62273b93-9d2f-4de0-ab4d-b404dcde1c29",
   "metadata": {},
   "outputs": [
    {
     "data": {
      "text/plain": [
       "array([0.16666667, 0.28571429, 0.375     , 0.44444444, 0.5       ])"
      ]
     },
     "execution_count": 16,
     "metadata": {},
     "output_type": "execute_result"
    }
   ],
   "source": [
    "anp / bnp"
   ]
  },
  {
   "cell_type": "code",
   "execution_count": 18,
   "id": "c11a9654-2134-476a-a58c-064c4ca3e33c",
   "metadata": {},
   "outputs": [
    {
     "data": {
      "text/plain": [
       "array([ 1,  4,  9, 16, 25])"
      ]
     },
     "execution_count": 18,
     "metadata": {},
     "output_type": "execute_result"
    }
   ],
   "source": [
    "anp**2"
   ]
  },
  {
   "cell_type": "code",
   "execution_count": 29,
   "id": "1b1898da-c739-4738-8421-a23433a109ae",
   "metadata": {},
   "outputs": [
    {
     "name": "stdout",
     "output_type": "stream",
     "text": [
      "[[ 8 10 12]\n",
      " [ 3  3  3]]\n",
      "[[  7  16  27]\n",
      " [ -4 -10 -18]]\n"
     ]
    }
   ],
   "source": [
    "c = np.array(([1, 2, 3], \n",
    "              [4, 5, 6]))\n",
    "d = np.array(([7, 8, 9], \n",
    "              [-1, -2, -3]))\n",
    "\n",
    "add = c + d\n",
    "mult = c * d\n",
    "print(add)\n",
    "print(mult)"
   ]
  },
  {
   "cell_type": "markdown",
   "id": "89a7ccec-59ba-47ee-85a5-11cea0a817f7",
   "metadata": {},
   "source": [
    "## Perkalian Dot Matrix"
   ]
  },
  {
   "cell_type": "code",
   "execution_count": 21,
   "id": "ab4c0c74-cec6-48e6-853f-5f8a5f67740c",
   "metadata": {},
   "outputs": [
    {
     "name": "stdout",
     "output_type": "stream",
     "text": [
      "matrix a: \n",
      "[[1 2]\n",
      " [3 4]]\n",
      "\n",
      "matrix b: \n",
      "[[1 2]\n",
      " [3 4]]\n",
      "\n",
      "matrix c1:\n",
      "[[3. 3.]\n",
      " [7. 7.]]\n",
      "\n",
      "matrix c2:\n",
      "[[3. 3.]\n",
      " [7. 7.]]\n",
      "\n"
     ]
    }
   ],
   "source": [
    "a = np.array(([1, 2],\n",
    "             [3, 4]))\n",
    "\n",
    "b = np.ones([2, 2])\n",
    "\n",
    "print(\"matrix a: \")\n",
    "print(a)\n",
    "print()\n",
    "\n",
    "print(\"matrix b: \")\n",
    "print(a)\n",
    "print()\n",
    "\n",
    "# perkalian matrix\n",
    "c1 = np.dot(a, b)\n",
    "c2 = a.dot(b)\n",
    "\n",
    "print(\"matrix c1:\")\n",
    "print(c1)\n",
    "print()\n",
    "\n",
    "print(\"matrix c2:\")\n",
    "print(c2)\n",
    "print()"
   ]
  },
  {
   "cell_type": "markdown",
   "id": "dc4f23d7-03a5-432a-972a-99307df96962",
   "metadata": {},
   "source": [
    "## Shape manipulation"
   ]
  },
  {
   "cell_type": "code",
   "execution_count": 23,
   "id": "e476a068-7ac4-4f62-b1ba-4e9e966c250a",
   "metadata": {},
   "outputs": [
    {
     "name": "stdout",
     "output_type": "stream",
     "text": [
      "matrix a dengan ukuran dari a:  (2, 3)\n",
      "[[1 2 3]\n",
      " [4 5 6]]\n",
      "\n",
      "transpose matrix dari a: \n",
      "[[1 4]\n",
      " [2 5]\n",
      " [3 6]]\n",
      "(2, 3)\n",
      "\n",
      "transpose matrix dari a transpose: \n",
      "(3, 2)\n",
      "\n"
     ]
    }
   ],
   "source": [
    "a = np.array((\n",
    "    [1, 2, 3], \n",
    "    [4, 5, 6]\n",
    "))\n",
    "\n",
    "print(\"matrix a dengan ukuran dari a: \", a.shape)\n",
    "print(a)\n",
    "print()\n",
    "\n",
    "# transpose matrix\n",
    "print('transpose matrix dari a: ')\n",
    "print(a.transpose())\n",
    "print(a.shape)\n",
    "print()\n",
    "\n",
    "# transpose matrix\n",
    "print('transpose matrix dari a transpose: ')\n",
    "a_transpose = np.transpose(a)\n",
    "print(a_transpose.shape)\n",
    "print()"
   ]
  },
  {
   "cell_type": "code",
   "execution_count": 27,
   "id": "ec8ae4e3-9ff0-4ade-8c4b-9fe63199f354",
   "metadata": {},
   "outputs": [
    {
     "name": "stdout",
     "output_type": "stream",
     "text": [
      "[[2 4]\n",
      " [3 5]]\n",
      "\n",
      "[[-2.5  2. ]\n",
      " [ 1.5 -1. ]]\n",
      "\n",
      "-2.0000000000000004\n",
      "-0.4999999999999996\n"
     ]
    }
   ],
   "source": [
    "a = np.array([ \n",
    "    (2,4), \n",
    "    (3,5)\n",
    "])\n",
    "print(a)\n",
    "print()\n",
    "#invers matrix\n",
    "a_inv = np.linalg.inv(a)\n",
    "print(a_inv)\n",
    "print()\n",
    "\n",
    "#determinan matrix\n",
    "det_a = np.linalg.det(a)\n",
    "det_a_inv = np.linalg.det(a_inv)\n",
    "print(det_a)\n",
    "print(det_a_inv)"
   ]
  },
  {
   "cell_type": "markdown",
   "id": "3acf53b3-73f8-4df0-ab0a-7118b1276e5a",
   "metadata": {},
   "source": [
    "## Contoh SPLDV"
   ]
  },
  {
   "cell_type": "code",
   "execution_count": 26,
   "id": "7ae815af-4081-469b-8179-784cd53b62d7",
   "metadata": {},
   "outputs": [
    {
     "name": "stdout",
     "output_type": "stream",
     "text": [
      "[[2 3]\n",
      " [1 2]]\n",
      "[23 14]\n",
      "\n",
      "[4. 5.]\n",
      "\n",
      "[4. 5.]\n"
     ]
    }
   ],
   "source": [
    "# 2a + 3b = 23 and a + 2b = 14\n",
    "\n",
    "A = np.array([(2,3),\n",
    "              (1, 2)])\n",
    "\n",
    "Y = np.array([23, 14])\n",
    "\n",
    "print(A)\n",
    "print(Y)\n",
    "print()\n",
    "\n",
    "A_inv = np.linalg.inv(A)\n",
    "\n",
    "# menyelesaikan persamaan linear\n",
    "X1 = np.dot(A_inv, Y)\n",
    "print(X1)\n",
    "print()\n",
    "\n",
    "# cara lain \n",
    "X2 = np.linalg.solve(A, Y)\n",
    "print(X2)"
   ]
  },
  {
   "cell_type": "markdown",
   "id": "bb89f924-1152-47b1-97d7-b2e3c4d70398",
   "metadata": {},
   "source": [
    "## Latihan"
   ]
  },
  {
   "cell_type": "code",
   "execution_count": 3,
   "id": "f363f6cf-ab3a-4fe6-8775-ab24f653d4d4",
   "metadata": {},
   "outputs": [
    {
     "name": "stdout",
     "output_type": "stream",
     "text": [
      "Hasil Soal 1:\n",
      " [[ 6.         -0.33333333]\n",
      " [ 0.5         5.        ]]\n",
      "\n",
      "Hasil Soal 2:\n",
      " [[10. 11.]\n",
      " [ 6.  8.]]\n",
      "\n",
      "Hasil Soal 3:\n",
      " [[-29 -16]\n",
      " [  3   5]]\n",
      "\n",
      "Hasil Soal 4:\n",
      " [[ 9 10  2]\n",
      " [27 25 11]\n",
      " [45 40 20]]\n",
      "\n",
      "Hasil Invers Soal 5:\n",
      " [[-1.         -1.         -2.        ]\n",
      " [-2.         -2.11111111 -5.        ]\n",
      " [-1.         -1.22222222 -3.        ]]\n",
      "\n",
      "Hasil Penyelesaian Soal 6:\n",
      " [ 1. -2.]\n"
     ]
    }
   ],
   "source": [
    "import numpy as np\n",
    "\n",
    "# Soal 1\n",
    "matrix1 = np.array([[1/2, 2/3], [-3/4, -5/2]])\n",
    "matrix2 = np.array([[7, 1], [-1, 0]])\n",
    "hasil1 = -2 * matrix1 + matrix2\n",
    "print(\"Hasil Soal 1:\\n\", hasil1)\n",
    "\n",
    "# Soal 2\n",
    "matrix3 = np.array([[15, 30], [10, 25]])\n",
    "matrix4 = np.array([[4, -1], [2, -2]])\n",
    "hasil2 = (2/5) * matrix3 + matrix4\n",
    "print(\"\\nHasil Soal 2:\\n\", hasil2)\n",
    "\n",
    "# Soal 3\n",
    "matrix5 = np.array([[-2, 6, 3, -2], [3, 4, 2, 1]])\n",
    "matrix6 = np.array([[3, 2], [-2, 1], [-1, -4], [4, 3]])\n",
    "hasil3 = np.dot(matrix5, matrix6)\n",
    "print(\"\\nHasil Soal 3:\\n\", hasil3)\n",
    "\n",
    "# Soal 4\n",
    "matrix7 = np.array([[1, 2, 3], [4, 5, 6], [7, 8, 9]])\n",
    "matrix8 = np.array([[1, 3, 2], [7, -1, 3], [-2, 3, -2]])\n",
    "hasil4 = np.dot(matrix7, matrix8)\n",
    "print(\"\\nHasil Soal 4:\\n\", hasil4)\n",
    "\n",
    "# Soal 5\n",
    "matrix9 = np.array([[2, -5, 7], [-9, 9, -9], [3, -2, 1]])\n",
    "inverse_matrix9 = np.linalg.inv(matrix9)\n",
    "print(\"\\nHasil Invers Soal 5:\\n\", inverse_matrix9)\n",
    "\n",
    "# Soal 6\n",
    "A = np.array([[2, -3], [1, 2]])\n",
    "Y = np.array([8, -3])\n",
    "solution = np.linalg.solve(A, Y)\n",
    "print(\"\\nHasil Penyelesaian Soal 6:\\n\", solution)\n"
   ]
  },
  {
   "cell_type": "code",
   "execution_count": null,
   "id": "a270c28c-7869-47ba-aff0-bfa0f27adbc7",
   "metadata": {},
   "outputs": [],
   "source": []
  }
 ],
 "metadata": {
  "kernelspec": {
   "display_name": "Python 3 (ipykernel)",
   "language": "python",
   "name": "python3"
  },
  "language_info": {
   "codemirror_mode": {
    "name": "ipython",
    "version": 3
   },
   "file_extension": ".py",
   "mimetype": "text/x-python",
   "name": "python",
   "nbconvert_exporter": "python",
   "pygments_lexer": "ipython3",
   "version": "3.12.4"
  }
 },
 "nbformat": 4,
 "nbformat_minor": 5
}
