{
 "cells": [
  {
   "cell_type": "markdown",
   "id": "4eca3a93-bb82-4ee5-84cd-42fe92784238",
   "metadata": {},
   "source": [
    "## Object Oriented Programming"
   ]
  },
  {
   "cell_type": "code",
   "execution_count": 15,
   "id": "74d7436a-dffc-4e0e-b9bc-3086584dfff1",
   "metadata": {},
   "outputs": [
    {
     "name": "stdout",
     "output_type": "stream",
     "text": [
      "andi\n",
      "Hi, i'm andi\n",
      "budi\n",
      "zzz...., budi is sleeping.\n",
      "cindy\n",
      "<class '__main__.Human'>\n"
     ]
    }
   ],
   "source": [
    "class Human: \n",
    "    def __init__(self, n):\n",
    "        self.name = n\n",
    "        self.age = 0\n",
    "\n",
    "    def sleep(self):\n",
    "        print(f\"zzz...., {self.name} is sleeping.\")\n",
    "\n",
    "    def introduce(self):\n",
    "        print(f\"Hi, i'm {self.name}\")\n",
    "\n",
    "andi = Human(\"andi\")\n",
    "budi = Human(\"budi\")\n",
    "cindy = Human(\"cindy\")\n",
    "\n",
    "print(andi.name)\n",
    "andi.introduce()\n",
    "print(budi.name)\n",
    "budi.sleep()\n",
    "print(cindy.name)\n",
    "\n",
    "print(type(andi))"
   ]
  },
  {
   "cell_type": "code",
   "execution_count": 13,
   "id": "dbf07252-0063-43d7-9aa1-32f646b4f6e2",
   "metadata": {},
   "outputs": [
    {
     "name": "stdout",
     "output_type": "stream",
     "text": [
      "Toyota\n",
      "Tesla\n",
      "<class '__main__.Car'>\n"
     ]
    }
   ],
   "source": [
    "class Car:\n",
    "    def __init__(self, m):\n",
    "        self.merk = m\n",
    "\n",
    "my_car = Car(\"Toyota\")\n",
    "our_car = Car(\"Tesla\")\n",
    "\n",
    "print(my_car.merk)\n",
    "print(our_car.merk)\n",
    "print(type(my_car))"
   ]
  },
  {
   "cell_type": "markdown",
   "id": "db7c5cfa-ea40-4b5c-9a6e-c262f98880fd",
   "metadata": {},
   "source": [
    "## Latihan  1"
   ]
  },
  {
   "cell_type": "code",
   "execution_count": 22,
   "id": "af51023c-c8a0-4e88-a56c-5fce6438f611",
   "metadata": {},
   "outputs": [
    {
     "name": "stdout",
     "output_type": "stream",
     "text": [
      "Restaurant Name: Eki's Shusi\n",
      "Cuisine Type: Japanese\n",
      "Eki's Shusi is open!\n",
      "\n",
      "Restaurant Name: Waroeng Bu Merry\n",
      "Cuisine Type: Indonesian\n",
      "Waroeng Bu Merry is open!\n"
     ]
    }
   ],
   "source": [
    "class Restaurant:\n",
    "    def __init__(self, restaurant_name, cuisine_type):\n",
    "        self.restaurant_name = restaurant_name\n",
    "        self.cuisine_type = cuisine_type\n",
    "\n",
    "    def describe_restaurant(self):\n",
    "        print(f\"Restaurant Name: {self.restaurant_name}\")\n",
    "        print(f\"Cuisine Type: {self.cuisine_type}\")\n",
    "\n",
    "    def open_restaurant(self):\n",
    "        print(f\"{self.restaurant_name} is open!\")\n",
    "\n",
    "restaurant1 = Restaurant(\"Eki's Shusi\", \"Japanese\")\n",
    "restaurant2 = Restaurant(\"Waroeng Bu Merry\", \"Indonesian\")\n",
    "\n",
    "restaurant1.describe_restaurant()\n",
    "restaurant1.open_restaurant()\n",
    "print()\n",
    "restaurant2.describe_restaurant()\n",
    "restaurant2.open_restaurant()"
   ]
  },
  {
   "cell_type": "markdown",
   "id": "fd292243-9ff5-4210-a4d2-709654f81caa",
   "metadata": {},
   "source": [
    "## Latihan 2"
   ]
  },
  {
   "cell_type": "code",
   "execution_count": 26,
   "id": "b566cdf2-235c-4fe3-9216-e58ddef52f46",
   "metadata": {},
   "outputs": [
    {
     "name": "stdout",
     "output_type": "stream",
     "text": [
      "Restaurant Name: Eki's Sushi\n",
      "Cuisine Type: Japanese\n",
      "\n",
      "Restaurant Name: Waroeng Bu Merry\n",
      "Cuisine Type: Indonesian\n",
      "\n",
      "Restaurant Name: Skibidi's Pizza\n",
      "Cuisine Type: Italian\n"
     ]
    }
   ],
   "source": [
    "class Restaurant:\n",
    "    def __init__(self, restaurant_name, cuisine_type):\n",
    "        self.restaurant_name = restaurant_name\n",
    "        self.cuisine_type = cuisine_type\n",
    "\n",
    "    def describe_restaurant(self):\n",
    "        print(f\"Restaurant Name: {self.restaurant_name}\")\n",
    "        print(f\"Cuisine Type: {self.cuisine_type}\")\n",
    "\n",
    "    def open_restaurant(self):\n",
    "        print(f\"{self.restaurant_name} is now open!\")\n",
    "\n",
    "restaurant1 = Restaurant(\"Eki's Sushi\", \"Japanese\")\n",
    "restaurant2 = Restaurant(\"Waroeng Bu Merry\", \"Indonesian\")\n",
    "restaurant3 = Restaurant(\"Skibidi's Pizza\", \"Italian\")\n",
    "\n",
    "restaurant1.describe_restaurant()\n",
    "print()\n",
    "restaurant2.describe_restaurant()\n",
    "print()\n",
    "restaurant3.describe_restaurant()"
   ]
  },
  {
   "cell_type": "markdown",
   "id": "5d473f1e-30ce-4bd0-8beb-d09a3411d912",
   "metadata": {},
   "source": [
    "## Latihan 3"
   ]
  },
  {
   "cell_type": "code",
   "execution_count": 14,
   "id": "0d72f567-0370-4bb6-b464-af4214c5d74b",
   "metadata": {},
   "outputs": [
    {
     "name": "stdout",
     "output_type": "stream",
     "text": [
      "--- Profile ---\n",
      "Name: Mario Nichobuu\n",
      "Age: 80\n",
      "Username: buu\n",
      "Password: admin1234\n",
      "Hi, Mario! Welcome!\n",
      "\n",
      "--- Profile ---\n",
      "Name: Lovel Yanto\n",
      "Age: 100\n",
      "Username: oktvk\n",
      "Password: admin#1234\n",
      "Hi, Lovel! Welcome!\n",
      "\n",
      "--- Profile ---\n",
      "Name: Winson Leeee\n",
      "Age: 120\n",
      "Username: sonn\n",
      "Password: admin//1234\n",
      "Hi, Winson! Welcome!\n"
     ]
    }
   ],
   "source": [
    "class User:\n",
    "    def __init__(self, first_name, last_name, age, username, password):\n",
    "        self.first_name = first_name\n",
    "        self.last_name = last_name\n",
    "        self.age = age\n",
    "        self.username = username\n",
    "        self.password = password\n",
    "\n",
    "    def describe_user(self):\n",
    "        print(f\"--- Profile ---\")\n",
    "        print(f\"Name: {self.first_name} {self.last_name}\")\n",
    "        print(f\"Age: {self.age}\")\n",
    "        print(f\"Username: {self.username}\")\n",
    "        print(f\"Password: {self.password}\")\n",
    "\n",
    "    def greet_user(self):\n",
    "        print(f\"Hi, {self.first_name}! Welcome!\")\n",
    "\n",
    "user1 = User(\"Mario\", \"Nichobuu\", 80, \"buu\", \"admin1234\")\n",
    "user2 = User(\"Lovel\", \"Yanto\", 100, \"oktvk\", \"admin#1234\")\n",
    "user3 = User(\"Winson\", \"Leeee\", 120, \"sonn\", \"admin//1234\")\n",
    "\n",
    "user1.describe_user()\n",
    "user1.greet_user()\n",
    "print()\n",
    "user2.describe_user()\n",
    "user2.greet_user()\n",
    "print()\n",
    "user3.describe_user()\n",
    "user3.greet_user()\n"
   ]
  },
  {
   "cell_type": "markdown",
   "id": "62903d20-7566-42d3-be04-e4d5249a63d1",
   "metadata": {},
   "source": [
    "## 4 Concept OOP\n",
    "### Encapsulation\n",
    "#### Getter and Setter Method"
   ]
  },
  {
   "cell_type": "code",
   "execution_count": 40,
   "id": "7dc25bd0-1ede-45a4-992d-177f2c8ecf7c",
   "metadata": {},
   "outputs": [
    {
     "name": "stdout",
     "output_type": "stream",
     "text": [
      "Alif\n",
      "My name is Alif\n",
      "Wima\n"
     ]
    },
    {
     "data": {
      "text/plain": [
       "'My name is bros'"
      ]
     },
     "execution_count": 40,
     "metadata": {},
     "output_type": "execute_result"
    }
   ],
   "source": [
    "class Person:\n",
    "    def __init__(self, name, sex=\"Male\"):\n",
    "        self.name = name\n",
    "        self.sex = sex\n",
    "\n",
    "    def get_name(self):\n",
    "        return f\"My name is {self.name}\"\n",
    "\n",
    "    def set_name(self, new_name):\n",
    "        self.name = new_name\n",
    "    \n",
    "\n",
    "alif = Person(\"Alif\")\n",
    "wima = Person(\"Wima\", \"Female\")\n",
    "mario = Person(\"Mario\", \"Male\")\n",
    "\n",
    "print(alif.name)\n",
    "print(alif.get_name())\n",
    "print(wima.name)\n",
    "mario.set_name(\"bros\")\n",
    "mario.get_name()"
   ]
  },
  {
   "cell_type": "markdown",
   "id": "39d368d7-cd32-4029-9e3d-9ed944b6e777",
   "metadata": {},
   "source": [
    "## Instance as an atrribute"
   ]
  },
  {
   "cell_type": "code",
   "execution_count": 10,
   "id": "4e3dc77b-fbc0-431a-846b-ecb6eef3fbd7",
   "metadata": {},
   "outputs": [],
   "source": [
    "class Battery:\n",
    "    def __init__(self, made = 'ABC', capacity = 100):\n",
    "        self.made = made\n",
    "        self.capacity = capacity\n",
    "\n",
    "    def show_capacity(self):\n",
    "        print(f'Capacity is {self.capacity}')"
   ]
  },
  {
   "cell_type": "code",
   "execution_count": 12,
   "id": "d8032f3d-72c8-472f-bb63-fe65f545ea79",
   "metadata": {},
   "outputs": [
    {
     "name": "stdout",
     "output_type": "stream",
     "text": [
      "Capacity is 100\n"
     ]
    }
   ],
   "source": [
    "class Car:\n",
    "    def __init__ (self, made, year):\n",
    "        self.made = made\n",
    "        self.year = year\n",
    "\n",
    "    def describe_car(self):\n",
    "        print(f\"This is {self.made} car, year: {self.year}\")\n",
    "\n",
    "class EvCar(Car): \n",
    "    def __init__(self, made, year=2024):\n",
    "        super().__init__(made, year)\n",
    "        self.battery = Battery()\n",
    "\n",
    "my_tesla = EvCar(\"tesla\")\n",
    "my_tesla.battery.show_capacity()"
   ]
  },
  {
   "cell_type": "markdown",
   "id": "4cc79729-dbdc-4d01-a2ab-ca345df517fb",
   "metadata": {},
   "source": [
    "## Inheritance"
   ]
  },
  {
   "cell_type": "code",
   "execution_count": 43,
   "id": "70af30ae-5c24-4fe9-b2ef-62516cbf1281",
   "metadata": {},
   "outputs": [
    {
     "name": "stdout",
     "output_type": "stream",
     "text": [
      "This is Tesla car, year: 2024\n",
      "This is Toyota car, year: 2020\n"
     ]
    }
   ],
   "source": [
    "class Car:\n",
    "    def __init__ (self, made, year):\n",
    "        self.made = made\n",
    "        self.year = year\n",
    "\n",
    "    def describe_car(self):\n",
    "        print(f\"This is {self.made} car, year: {self.year}\")\n",
    "\n",
    "class EvCar(Car): \n",
    "    def __init__(self, made, year=2024):\n",
    "        super().__init__(made, year)\n",
    "        self.battery = 100\n",
    "\n",
    "my_tesla = EvCar(\"Tesla\")\n",
    "my_toyota = Car(\"Toyota\", 2020)\n",
    "\n",
    "my_tesla.describe_car()\n",
    "my_toyota.describe_car()"
   ]
  }
 ],
 "metadata": {
  "kernelspec": {
   "display_name": "Python 3 (ipykernel)",
   "language": "python",
   "name": "python3"
  },
  "language_info": {
   "codemirror_mode": {
    "name": "ipython",
    "version": 3
   },
   "file_extension": ".py",
   "mimetype": "text/x-python",
   "name": "python",
   "nbconvert_exporter": "python",
   "pygments_lexer": "ipython3",
   "version": "3.12.4"
  }
 },
 "nbformat": 4,
 "nbformat_minor": 5
}
