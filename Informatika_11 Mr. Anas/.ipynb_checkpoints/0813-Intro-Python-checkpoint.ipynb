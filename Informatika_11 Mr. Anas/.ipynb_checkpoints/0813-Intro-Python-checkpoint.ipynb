{
 "cells": [
  {
   "cell_type": "code",
   "execution_count": null,
   "id": "80c46973-2fe3-41f6-84dc-91fafe269509",
   "metadata": {},
   "outputs": [],
   "source": [
    "a = 13 # int\n",
    "b = 20.45 # float\n",
    "\n",
    "print(type(a))\n",
    "print(type(b))\n",
    "\n",
    "print(2/3)\n",
    "print(2//3)"
   ]
  },
  {
   "cell_type": "code",
   "execution_count": 6,
   "id": "645e9237-7a89-4220-8f74-4c807259f3e8",
   "metadata": {},
   "outputs": [
    {
     "name": "stdout",
     "output_type": "stream",
     "text": [
      "2 + 2 is 5\n",
      "3 * 4 is 12\n",
      "100 - 1 is 99\n",
      "(33 + 2) / 5 + 11.5 is 18.5\n",
      "Fristish Grade\n",
      "1 + 1 = 2\n",
      "2 + 4 = 6\n",
      "5 - 2 = 3\n",
      "\n",
      "Thirdish Grade\n",
      "243 - 23 = 220\n",
      "12 * 4 = 48\n",
      "12 / 3 = 4.0\n",
      "13 / 3 = 4 R 1\n",
      "\n",
      "Junior High\n",
      "123.56 - 62.12 = 61.440000000000005\n",
      "(4 + 3) * 2 = 14\n",
      "4 + 3 * 2 10\n",
      "3 ** 2 = 9\n"
     ]
    }
   ],
   "source": [
    "print(\"2 + 2 is\", 2 + 3)\n",
    "print(\"3 * 4 is\", 3 * 4)\n",
    "print(\"100 - 1 is\", 100 - 1)\n",
    "print(\"(33 + 2) / 5 + 11.5 is\", (33 + 2) / 5 + 11.5)\n",
    "\n",
    "print(\"Fristish Grade\")\n",
    "print(\"1 + 1 =\", 1 + 1)\n",
    "print(\"2 + 4 =\", 2 + 4)\n",
    "print(\"5 - 2 =\", 5 - 2)\n",
    "print()\n",
    "print(\"Thirdish Grade\")\n",
    "print(\"243 - 23 =\", 243 - 23)\n",
    "print(\"12 * 4 =\", 12 * 4)\n",
    "print(\"12 / 3 =\", 12 / 3)\n",
    "print(\"13 / 3 =\", 13 // 3, \"R\", 13 % 3)\n",
    "print()\n",
    "print(\"Junior High\")\n",
    "print(\"123.56 - 62.12 =\", 123.56 - 62.12)\n",
    "print(\"(4 + 3) * 2 =\", (4 + 3) * 2)\n",
    "print(\"4 + 3 * 2\", 4 + 3 * 2)\n",
    "print(\"3 ** 2 =\", 3 ** 2)"
   ]
  },
  {
   "cell_type": "markdown",
   "id": "ffc48ec0-d1e6-4df6-9286-e5282fe7ac81",
   "metadata": {},
   "source": [
    "Math Function usinng Numpy"
   ]
  },
  {
   "cell_type": "code",
   "execution_count": null,
   "id": "060ff164-28c3-45a0-b5ec-3d0802bc4950",
   "metadata": {},
   "outputs": [],
   "source": [
    "import numpy as np"
   ]
  },
  {
   "cell_type": "code",
   "execution_count": 11,
   "id": "54955881-b658-4bb2-8ef7-1998950561ee",
   "metadata": {},
   "outputs": [
    {
     "name": "stdout",
     "output_type": "stream",
     "text": [
      "3.141592653589793\n",
      "2.718281828459045\n",
      "2.718281828459045\n"
     ]
    }
   ],
   "source": [
    "# Constance\n",
    "\n",
    "print(np.pi)\n",
    "print(np.e)\n",
    "print(np.exp(1))"
   ]
  },
  {
   "cell_type": "markdown",
   "id": "b01c257e-9168-4e9a-91d6-3e94a88c3299",
   "metadata": {},
   "source": [
    "Rate & Distance Problem"
   ]
  },
  {
   "cell_type": "code",
   "execution_count": 14,
   "id": "feb1cd4f-ae21-48a7-be97-918e0c9128de",
   "metadata": {
    "scrolled": true
   },
   "outputs": [
    {
     "name": "stdout",
     "output_type": "stream",
     "text": [
      "Input a rate and a distance\n"
     ]
    },
    {
     "name": "stdin",
     "output_type": "stream",
     "text": [
      "Rate:  1\n",
      "Distance:  1\n"
     ]
    },
    {
     "name": "stdout",
     "output_type": "stream",
     "text": [
      "Time 1.0\n"
     ]
    }
   ],
   "source": [
    "print(\"Input a rate and a distance\")\n",
    "rate = float(input(\"Rate: \"))\n",
    "distance = float(input(\"Distance: \"))\n",
    "time = (distance / rate)\n",
    "print(\"Time\", time)"
   ]
  },
  {
   "cell_type": "markdown",
   "id": "3f9a70ee-65d2-49ef-bfb8-a7ae4fd037d8",
   "metadata": {},
   "source": [
    "Area & Perimeter of Circle"
   ]
  },
  {
   "cell_type": "code",
   "execution_count": 16,
   "id": "b5ce5c58-5352-4dc4-aa9a-9276a62318bd",
   "metadata": {},
   "outputs": [
    {
     "name": "stdin",
     "output_type": "stream",
     "text": [
      "Radius:  2\n"
     ]
    },
    {
     "name": "stdout",
     "output_type": "stream",
     "text": [
      "Area is 12.566370614359172  and Perimeter is 12.566370614359172\n"
     ]
    }
   ],
   "source": [
    "radius = float(input(\"Radius: \"))\n",
    "area = np.pi * radius * radius\n",
    "perimeter = 2 * np.pi * radius\n",
    "\n",
    "print(\"Area is\", area, \" and Perimeter is\", perimeter)"
   ]
  },
  {
   "cell_type": "markdown",
   "id": "1069e2a0-11cf-4cde-bbd1-e605c373e1b6",
   "metadata": {},
   "source": [
    "Calculating with Variable"
   ]
  },
  {
   "cell_type": "code",
   "execution_count": null,
   "id": "0f5a4b47-2a1a-4aa4-a8af-1dea391485b1",
   "metadata": {},
   "outputs": [],
   "source": [
    "\n",
    "```\n",
    "where r is the annual interest rate and n is the compounding frequency. For example, if you deposit $2,100 in a bank paying an annual interest rate of 3.4% compounded four times a year, we can compute the balance after 7 years by defining these variables:\n",
    "```\n",
    "P = 2100\n",
    "r = 0.034\n",
    "n = 4\n",
    "t = 7\n",
    "\n",
    "V = P * (1 + r/n) ** (n * t)\n",
    "print(V)"
   ]
  },
  {
   "cell_type": "markdown",
   "id": "71a33704-ebd3-4cf3-9bf4-274ad1306b3d",
   "metadata": {},
   "source": [
    "Exercise: Continuing the previous example, suppose you start with the same principle and the same interest rate, but interest is compounded twice per year, so n = 2. What would the total value be after 7 years? Hint: we expect the answer to be a bit less than the previous answer."
   ]
  },
  {
   "cell_type": "code",
   "execution_count": 21,
   "id": "7e44ab2f-3700-4f43-a6b8-cdbfc3f2e008",
   "metadata": {},
   "outputs": [
    {
     "name": "stdout",
     "output_type": "stream",
     "text": [
      "The total value after 7 years is: 1412.97\n"
     ]
    }
   ],
   "source": [
    "# Define the variables\n",
    "P = 1000  # Principal amount\n",
    "r = 0.05  # Annual interest rate (5%)\n",
    "n = 2     # Number of times interest is compounded per year\n",
    "t = 7     # Number of years\n",
    "\n",
    "# Calculate the total amount\n",
    "A = P * (1 + r/n)**(n*t)\n",
    "\n",
    "# Print the result\n",
    "print(f\"Total: {A:.2f}\")\n"
   ]
  },
  {
   "cell_type": "code",
   "execution_count": null,
   "id": "067f1a59-4a00-481a-978e-f87901ff4ee7",
   "metadata": {},
   "outputs": [],
   "source": []
  },
  {
   "cell_type": "code",
   "execution_count": null,
   "id": "134c75ae-4a25-4092-a17d-52d2c4f4fc3e",
   "metadata": {},
   "outputs": [],
   "source": []
  }
 ],
 "metadata": {
  "kernelspec": {
   "display_name": "Python 3 (ipykernel)",
   "language": "python",
   "name": "python3"
  },
  "language_info": {
   "codemirror_mode": {
    "name": "ipython",
    "version": 3
   },
   "file_extension": ".py",
   "mimetype": "text/x-python",
   "name": "python",
   "nbconvert_exporter": "python",
   "pygments_lexer": "ipython3",
   "version": "3.12.4"
  }
 },
 "nbformat": 4,
 "nbformat_minor": 5
}
