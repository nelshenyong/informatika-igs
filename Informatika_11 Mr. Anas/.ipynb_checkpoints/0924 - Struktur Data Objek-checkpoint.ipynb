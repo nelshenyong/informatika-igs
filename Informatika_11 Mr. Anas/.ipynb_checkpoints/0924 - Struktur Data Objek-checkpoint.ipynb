{
 "cells": [
  {
   "cell_type": "markdown",
   "id": "a1284837-49bb-4e43-a631-9e78c48960f6",
   "metadata": {},
   "source": [
    "## Polymorphism (OOP)"
   ]
  },
  {
   "cell_type": "code",
   "execution_count": 1,
   "id": "bce01bf7-be5f-4624-b5e7-bf25b892d906",
   "metadata": {},
   "outputs": [
    {
     "name": "stdout",
     "output_type": "stream",
     "text": [
      "I'm moving...\n"
     ]
    }
   ],
   "source": [
    "class Vehicle:\n",
    "    def __init__(self, name):\n",
    "        self.name = name\n",
    "\n",
    "    def move(self):\n",
    "        print(f\"I'm moving...\")\n",
    "\n",
    "my_vehicle = Vehicle(\"first\")\n",
    "my_vehicle.move()"
   ]
  },
  {
   "cell_type": "code",
   "execution_count": 5,
   "id": "e6187319-4a0d-432c-a82f-8a9f0f488b9a",
   "metadata": {},
   "outputs": [
    {
     "name": "stdout",
     "output_type": "stream",
     "text": [
      "Brum... brum... brum...\n"
     ]
    }
   ],
   "source": [
    "class Car(Vehicle):\n",
    "    def __init__(self, name, made, year):\n",
    "        super().__init__(name)\n",
    "        self.made = made\n",
    "        self.year = year\n",
    "\n",
    "    def move(self):\n",
    "        print(f\"Brum... brum... brum...\")\n",
    "\n",
    "my_car = Car(\"Xenia\", \"Daihatsu\", 2024)\n",
    "my_car.move()"
   ]
  },
  {
   "cell_type": "code",
   "execution_count": 13,
   "id": "748f6740-a584-43b7-b6f7-3439ee4922aa",
   "metadata": {},
   "outputs": [
    {
     "name": "stdout",
     "output_type": "stream",
     "text": [
      "Meow... meow...\n",
      "Oink... oink...\n",
      "Woof... woof...\n"
     ]
    }
   ],
   "source": [
    "# Polymorphism with Animal Sounds\n",
    "class Animal:\n",
    "    def __init__(self, name):\n",
    "        self.name = name\n",
    "\n",
    "    def sound(self):\n",
    "        print(\"I'm sounding\")\n",
    "\n",
    "class Cat(Animal):\n",
    "    def __init__(self, name):\n",
    "        super().__init__(name)\n",
    "\n",
    "    def sound(self):\n",
    "        print(\"Meow... meow...\")\n",
    "        \n",
    "class Pig(Animal):\n",
    "    def __init__(self, name):\n",
    "        super().__init__(name)\n",
    "\n",
    "    def sound(self):\n",
    "        print(\"Oink... oink...\")\n",
    "\n",
    "class Dog(Animal):\n",
    "    def __init__(self, name):\n",
    "        super().__init__(name)\n",
    "\n",
    "    def sound(self):\n",
    "        print(\"Woof... woof...\")\n",
    "\n",
    "\n",
    "my_cat = Cat(\"Mario\")\n",
    "my_pig = Pig(\"Lovel\")\n",
    "my_dog = Dog(\"Felix\")\n",
    "\n",
    "my_cat.sound()\n",
    "my_pig.sound()\n",
    "my_dog.sound() "
   ]
  },
  {
   "cell_type": "code",
   "execution_count": null,
   "id": "a8066e9c-167a-4983-8464-aa98981e845c",
   "metadata": {},
   "outputs": [],
   "source": []
  }
 ],
 "metadata": {
  "kernelspec": {
   "display_name": "Python 3 (ipykernel)",
   "language": "python",
   "name": "python3"
  },
  "language_info": {
   "codemirror_mode": {
    "name": "ipython",
    "version": 3
   },
   "file_extension": ".py",
   "mimetype": "text/x-python",
   "name": "python",
   "nbconvert_exporter": "python",
   "pygments_lexer": "ipython3",
   "version": "3.12.4"
  }
 },
 "nbformat": 4,
 "nbformat_minor": 5
}
