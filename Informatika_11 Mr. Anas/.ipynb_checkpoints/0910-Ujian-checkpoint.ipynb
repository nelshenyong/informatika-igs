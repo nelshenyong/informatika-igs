{
 "cells": [
  {
   "cell_type": "markdown",
   "id": "30550d90-e0e9-4c96-a702-15938bfe41be",
   "metadata": {},
   "source": [
    "## Soal 1"
   ]
  },
  {
   "cell_type": "code",
   "execution_count": 9,
   "id": "9871f69c-51f5-48b4-a60f-6e3d93a34aef",
   "metadata": {},
   "outputs": [
    {
     "name": "stdout",
     "output_type": "stream",
     "text": [
      "0.0033\n"
     ]
    }
   ],
   "source": [
    "p = 1.10 * 10**-6\n",
    "l = 1500\n",
    "A = 0.5\n",
    "\n",
    "r = p * (l / A)\n",
    "print(r)"
   ]
  },
  {
   "cell_type": "markdown",
   "id": "e2f41670-84fe-4b14-b5da-fb845fbf566f",
   "metadata": {},
   "source": [
    "## Soal 2"
   ]
  },
  {
   "cell_type": "code",
   "execution_count": 18,
   "id": "eaf32e2c-3558-437a-a4ca-5bb30b7b6ff1",
   "metadata": {},
   "outputs": [
    {
     "name": "stdout",
     "output_type": "stream",
     "text": [
      "96.1869634249173\n",
      "0.45818104016670325\n"
     ]
    }
   ],
   "source": [
    "import numpy as np\n",
    "\n",
    "f1 = 50\n",
    "f2 = 60\n",
    "\n",
    "Rx = (f1 * np.cos(45) + f2)\n",
    "Ry = (f1 * np.sin(45) + 0)\n",
    "\n",
    "R = np.sqrt(Rx**2 + Ry**2)\n",
    "t = np.arctan(Ry / Rx)\n",
    "\n",
    "print(R)\n",
    "print(t)"
   ]
  },
  {
   "cell_type": "markdown",
   "id": "edbff906-c441-42aa-94dc-375982a2cfe6",
   "metadata": {},
   "source": [
    "## Soal 3"
   ]
  },
  {
   "cell_type": "code",
   "execution_count": 2,
   "id": "ebc094e6-ed39-4f7a-8a2b-319c75fef5d8",
   "metadata": {},
   "outputs": [
    {
     "data": {
      "text/latex": [
       "$\\displaystyle \\left(x + \\sqrt{\\sqrt{x} + x}\\right)^{0.5}$"
      ],
      "text/plain": [
       "<IPython.core.display.Math object>"
      ]
     },
     "metadata": {},
     "output_type": "display_data"
    },
    {
     "data": {
      "text/latex": [
       "$\\displaystyle \\frac{5 x}{\\left(1 - x\\right)^{0.666666666666667}} + \\cos^{2}{\\left(2 x + 1 \\right)}$"
      ],
      "text/plain": [
       "<IPython.core.display.Math object>"
      ]
     },
     "metadata": {},
     "output_type": "display_data"
    },
    {
     "data": {
      "text/latex": [
       "$\\displaystyle \\tan{\\left(\\sqrt{\\frac{1 - \\cos{\\left(x \\right)}}{\\cos{\\left(x \\right)} + 1}} \\right)}$"
      ],
      "text/plain": [
       "<IPython.core.display.Math object>"
      ]
     },
     "metadata": {},
     "output_type": "display_data"
    }
   ],
   "source": [
    "import sympy as sp\n",
    "from IPython.display import display, Math\n",
    "\n",
    "x = sp.symbols(\"x\")\n",
    "\n",
    "fungsi_1 = sp.Pow(x + sp.sqrt(x + sp.sqrt(x)), 1/2)\n",
    "\n",
    "fungsi_2 = 5*x / sp.Pow(1 - x, 2 / 3) + sp.Pow(sp.cos(2*x + 1), 2)\n",
    "\n",
    "fungsi_3 = sp.tan(sp.sqrt((1 - sp.cos(x)) / (1 + sp.cos(x))))\n",
    "\n",
    "display(Math(sp.latex(fungsi_1)))\n",
    "display(Math(sp.latex(fungsi_2)))\n",
    "display(Math(sp.latex(fungsi_3)))\n"
   ]
  },
  {
   "cell_type": "markdown",
   "id": "9c6fa6a4-1a6e-485e-a742-1a4e61ba4d44",
   "metadata": {},
   "source": [
    "## Soal 4"
   ]
  },
  {
   "cell_type": "code",
   "execution_count": 86,
   "id": "368f0875-3ffa-42f8-a040-dad233df28b1",
   "metadata": {},
   "outputs": [
    {
     "name": "stdout",
     "output_type": "stream",
     "text": [
      "10 Years - 2 Months - 9 Days\n"
     ]
    }
   ],
   "source": [
    "import pandas as pd\n",
    "\n",
    "d1 = pd.Timestamp('January 13, 1990')\n",
    "d2 = pd.Timestamp('March 20, 2000')\n",
    "td = d2 - d1\n",
    "days = td.days\n",
    "years = days // 365\n",
    "days = days % 365\n",
    "\n",
    "months = days // 30\n",
    "days = days % 30\n",
    "print(f\"{years} Years - {months} Months - {days} Days\")"
   ]
  },
  {
   "cell_type": "markdown",
   "id": "63ff5a60-61fa-41da-8633-e469c9bb61d9",
   "metadata": {},
   "source": [
    "## Soal 5"
   ]
  },
  {
   "cell_type": "code",
   "execution_count": 3,
   "id": "e11cba4f-9444-4d89-b9ce-935c6f6c3ac4",
   "metadata": {},
   "outputs": [
    {
     "name": "stdout",
     "output_type": "stream",
     "text": [
      "5. a. [[26 21]\n",
      " [32 43]]\n",
      "b. [[  6.70820393 -15.        ]\n",
      " [ 39.         -60.37383539]]\n",
      "x = 11.000000000000002, y = 0.75, z = -13.250000000000004\n",
      "2x + 3y + z = 11.0\n",
      "2x - 5y + z = 5.0\n",
      "3x - 2y + 2z = 5.0\n"
     ]
    }
   ],
   "source": [
    "import numpy as np\n",
    "\n",
    "a = np.array([(4, 3),\n",
    "              (6, 7)])\n",
    "b = np.array([(1, 0),\n",
    "              (5, 3)])\n",
    "c = np.array([(1, np.sqrt(5)),\n",
    "              (np.sqrt(5), 9)])\n",
    "d = np.array([(np.sqrt(5), 0),\n",
    "              (-2, np.sqrt(5))])\n",
    "\n",
    "matrix_1 = (7 * a) - 2 * b\n",
    "print(f\"5. a. {matrix_1}\")\n",
    "matrix_2 = np.dot(-3 * c, d)\n",
    "print(f\"b. {matrix_2}\")\n",
    "\n",
    "A = np.array([[2, 3, 1], \n",
    "              [2, -5, 1], \n",
    "              [3, -2, 2]])\n",
    "B = np.array([11, 5, 5])\n",
    "X = np.linalg.solve(A, B)\n",
    "\n",
    "print(f\"x = {X[0]}, y = {X[1]}, z = {X[2]}\")\n",
    "\n",
    "persamaan_1 = 2 * X[0] + 3 * X[1] + X[2]\n",
    "persamaan_2 = 2 * X[0] - 5 * X[1] + X[2]\n",
    "persamaan_3 = 3 * X[0] - 2 * X[1] + 2 * X[2]\n",
    "\n",
    "print(f\"2x + 3y + z = {persamaan_1}\")\n",
    "print(f\"2x - 5y + z = {persamaan_2}\")\n",
    "print(f\"3x - 2y + 2z = {persamaan_3}\")\n"
   ]
  },
  {
   "cell_type": "code",
   "execution_count": null,
   "id": "27e28103-ece5-4218-a1cb-d8d025ad0c88",
   "metadata": {},
   "outputs": [],
   "source": []
  }
 ],
 "metadata": {
  "kernelspec": {
   "display_name": "Python 3 (ipykernel)",
   "language": "python",
   "name": "python3"
  },
  "language_info": {
   "codemirror_mode": {
    "name": "ipython",
    "version": 3
   },
   "file_extension": ".py",
   "mimetype": "text/x-python",
   "name": "python",
   "nbconvert_exporter": "python",
   "pygments_lexer": "ipython3",
   "version": "3.12.4"
  }
 },
 "nbformat": 4,
 "nbformat_minor": 5
}
