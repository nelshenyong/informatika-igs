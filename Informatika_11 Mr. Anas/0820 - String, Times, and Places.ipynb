{
 "cells": [
  {
   "cell_type": "markdown",
   "id": "8ee79658-477e-4b79-8206-9d81b7d17e7d",
   "metadata": {},
   "source": [
    "## String"
   ]
  },
  {
   "cell_type": "code",
   "execution_count": 1,
   "id": "d788fe05-4cba-4981-9085-881a5b06a029",
   "metadata": {},
   "outputs": [
    {
     "name": "stdout",
     "output_type": "stream",
     "text": [
      "budi\n",
      "Budi\n",
      "BUDI\n",
      "budi\n",
      "4\n"
     ]
    }
   ],
   "source": [
    "username = \"budi\"\n",
    "print(username)\n",
    "print(username.title())\n",
    "print(username.upper())\n",
    "print(username.lower())\n",
    "print(len(username))"
   ]
  },
  {
   "cell_type": "code",
   "execution_count": 2,
   "id": "5fe0b51c-ef67-49a3-b707-b339aa38026c",
   "metadata": {},
   "outputs": [
    {
     "name": "stdout",
     "output_type": "stream",
     "text": [
      "Fullname: Budi susilo\n",
      "Fullname: Budi susilo\n",
      "Fullname: Budi susilo\n"
     ]
    }
   ],
   "source": [
    "first = \"Budi\"\n",
    "last = \"susilo\"\n",
    "\n",
    "print(\"Fullname:\", first, last)\n",
    "print(\"Fullname: \" + first + \" \" + last)\n",
    "print(f\"Fullname: {first} {last}\")"
   ]
  },
  {
   "cell_type": "code",
   "execution_count": 3,
   "id": "94e782cf-bd8e-474b-854c-cc51283280a7",
   "metadata": {},
   "outputs": [
    {
     "name": "stdout",
     "output_type": "stream",
     "text": [
      "William Sealy Gosset\n",
      "Gosset, William Sealy\n"
     ]
    }
   ],
   "source": [
    "given = 'William'\n",
    "middle = 'Sealy'\n",
    "family = 'Gosset'\n",
    "\n",
    "# Output 1\n",
    "# William Sealy Gosset\n",
    "print(given, middle, family)\n",
    "\n",
    "# Output 2\n",
    "# Gosset, Wiliiam Sealy\n",
    "print(family + \", \" + given + \" \" + middle)"
   ]
  },
  {
   "cell_type": "markdown",
   "id": "888dc5e8-ce94-4ba0-8fe6-9091e1839134",
   "metadata": {},
   "source": [
    "## Casting"
   ]
  },
  {
   "cell_type": "code",
   "execution_count": 4,
   "id": "4b8f6204-c023-4e1e-b66b-31a2d075992a",
   "metadata": {},
   "outputs": [
    {
     "data": {
      "text/plain": [
       "223"
      ]
     },
     "execution_count": 4,
     "metadata": {},
     "output_type": "execute_result"
    }
   ],
   "source": [
    "not_number = '123'\n",
    "type(not_number)\n",
    "## not_number + 100 : SALAH HARUS DI CASTING\n",
    "int(not_number) + 100"
   ]
  },
  {
   "cell_type": "code",
   "execution_count": 5,
   "id": "882ea77b-e0b7-4e24-a9eb-beb91621c63f",
   "metadata": {},
   "outputs": [
    {
     "name": "stdout",
     "output_type": "stream",
     "text": [
      "<class 'str'>\n",
      "103.14159\n"
     ]
    }
   ],
   "source": [
    "not_float = '3.14159'\n",
    "print(type(not_float))\n",
    "print(float(not_float) + 100)"
   ]
  },
  {
   "cell_type": "code",
   "execution_count": 6,
   "id": "15557110-7fc9-46d8-bff0-f5e3b1d1ff97",
   "metadata": {},
   "outputs": [
    {
     "name": "stdout",
     "output_type": "stream",
     "text": [
      "Error!\n"
     ]
    }
   ],
   "source": [
    "try:\n",
    "    int(not_float)\n",
    "except ValueError:\n",
    "    print(\"Error!\")"
   ]
  },
  {
   "cell_type": "code",
   "execution_count": 7,
   "id": "c473297e-9ffa-4ea6-b336-cf200aa7319b",
   "metadata": {},
   "outputs": [
    {
     "name": "stdin",
     "output_type": "stream",
     "text": [
      "Enter your guess number:  3\n"
     ]
    },
    {
     "name": "stdout",
     "output_type": "stream",
     "text": [
      "Nice Try!\n",
      "done.\n"
     ]
    }
   ],
   "source": [
    "number = 10\n",
    "\n",
    "try:\n",
    "    guess = int(input(\"Enter your guess number: \"))\n",
    "except:\n",
    "    print(\"Error!\")\n",
    "else:\n",
    "    if guess == number:\n",
    "        print(\"Nice!\")\n",
    "    else:\n",
    "        print(\"Nice Try!\")\n",
    "finally:\n",
    "    print(\"done.\")\n",
    "    "
   ]
  },
  {
   "cell_type": "markdown",
   "id": "a0c2a12c-8703-4a60-93d5-6b2f9569c541",
   "metadata": {},
   "source": [
    "## Times"
   ]
  },
  {
   "cell_type": "code",
   "execution_count": 8,
   "id": "8965d7e4-37d1-454f-924c-b37862f93913",
   "metadata": {},
   "outputs": [],
   "source": [
    "import pandas as pd"
   ]
  },
  {
   "cell_type": "code",
   "execution_count": 9,
   "id": "8670990c-6a3c-4b82-8e89-c41f81c98136",
   "metadata": {},
   "outputs": [
    {
     "data": {
      "text/plain": [
       "pandas._libs.tslibs.timestamps.Timestamp"
      ]
     },
     "execution_count": 9,
     "metadata": {},
     "output_type": "execute_result"
    }
   ],
   "source": [
    "time = pd.Timestamp('06:30:00')\n",
    "type(time)"
   ]
  },
  {
   "cell_type": "code",
   "execution_count": 10,
   "id": "078ee3e8-54b3-414e-9e26-506254c3d8c9",
   "metadata": {},
   "outputs": [
    {
     "data": {
      "text/plain": [
       "Timestamp('2000-08-20 00:00:00')"
      ]
     },
     "execution_count": 10,
     "metadata": {},
     "output_type": "execute_result"
    }
   ],
   "source": [
    "date_of_birth = pd.Timestamp('August 20, 2000')\n",
    "date_of_birth"
   ]
  },
  {
   "cell_type": "code",
   "execution_count": 11,
   "id": "41530f74-4e44-428d-b50e-794237b7c3ae",
   "metadata": {},
   "outputs": [],
   "source": [
    "now = pd.Timestamp('2024-08-20 11:23:36.336923')"
   ]
  },
  {
   "cell_type": "code",
   "execution_count": 12,
   "id": "aa4d0aa1-a37a-463a-82c8-03061ce664b7",
   "metadata": {},
   "outputs": [
    {
     "data": {
      "text/plain": [
       "Timedelta('8766 days 11:23:36.336923')"
      ]
     },
     "execution_count": 12,
     "metadata": {},
     "output_type": "execute_result"
    }
   ],
   "source": [
    "age = now - date_of_birth\n",
    "age"
   ]
  },
  {
   "cell_type": "markdown",
   "id": "001c086a-c6be-4862-a084-d6f1ed3944eb",
   "metadata": {},
   "source": [
    "## Representing Location"
   ]
  },
  {
   "cell_type": "code",
   "execution_count": 13,
   "id": "a93e9112-7851-40dc-9eee-1cd28edbf7a3",
   "metadata": {},
   "outputs": [
    {
     "data": {
      "text/plain": [
       "(42.3601, -71.0589)"
      ]
     },
     "execution_count": 13,
     "metadata": {},
     "output_type": "execute_result"
    }
   ],
   "source": [
    "lat = 42.3601\n",
    "lon = -71.0589\n",
    "boston = lat, lon\n",
    "boston"
   ]
  },
  {
   "cell_type": "code",
   "execution_count": 14,
   "id": "d792f458-5ace-4504-8e66-b9826bc0920c",
   "metadata": {},
   "outputs": [
    {
     "data": {
      "text/plain": [
       "0.22984884706593015"
      ]
     },
     "execution_count": 14,
     "metadata": {},
     "output_type": "execute_result"
    }
   ],
   "source": [
    "import numpy as np\n",
    "\n",
    "theta = 1\n",
    "np.sin(theta/2)**2"
   ]
  },
  {
   "cell_type": "code",
   "execution_count": 15,
   "id": "7bc19a2b-561a-452e-ad5d-4680deec70c9",
   "metadata": {},
   "outputs": [],
   "source": [
    "def haversine(theta):\n",
    "    return np.sin(theta/2)**2"
   ]
  },
  {
   "cell_type": "code",
   "execution_count": 16,
   "id": "fcac5e08-e8ff-445b-9f62-ba0d6173d0a3",
   "metadata": {},
   "outputs": [],
   "source": [
    "haversine_lamb = lambda theta : np.sin(theta/2)**2"
   ]
  },
  {
   "cell_type": "code",
   "execution_count": 17,
   "id": "ca167afc-fb5f-4d1f-8b1f-b1059fe2d330",
   "metadata": {},
   "outputs": [
    {
     "data": {
      "text/plain": [
       "0.22984884706593015"
      ]
     },
     "execution_count": 17,
     "metadata": {},
     "output_type": "execute_result"
    }
   ],
   "source": [
    "haversine(1)"
   ]
  },
  {
   "cell_type": "code",
   "execution_count": 18,
   "id": "766068a8-c1a3-418f-8352-d0b3c08e1549",
   "metadata": {},
   "outputs": [
    {
     "data": {
      "text/plain": [
       "0.22984884706593015"
      ]
     },
     "execution_count": 18,
     "metadata": {},
     "output_type": "execute_result"
    }
   ],
   "source": [
    "haversine_lamb(1)"
   ]
  },
  {
   "cell_type": "markdown",
   "id": "df6e317b-c7df-4bf5-9612-4dc9f4ae9f57",
   "metadata": {},
   "source": [
    "## Contoh Diskriminan"
   ]
  },
  {
   "cell_type": "code",
   "execution_count": 19,
   "id": "9d8742a3-64c1-4f4b-9d88-566727578409",
   "metadata": {},
   "outputs": [],
   "source": [
    "def diskriminan(a, b, c):\n",
    "    return b ** 2 - 4 * a * c\n",
    "diskriminan_lamb = lambda a, b, c : b ** 2 - 4 * a * c"
   ]
  },
  {
   "cell_type": "code",
   "execution_count": 20,
   "id": "85617ba8-b340-4ca3-ac0c-5042dbe47676",
   "metadata": {},
   "outputs": [
    {
     "data": {
      "text/plain": [
       "-8"
      ]
     },
     "execution_count": 20,
     "metadata": {},
     "output_type": "execute_result"
    }
   ],
   "source": [
    "diskriminan(1, 2, 3)"
   ]
  },
  {
   "cell_type": "code",
   "execution_count": 21,
   "id": "618843fd-38db-44c7-a872-d335c4149465",
   "metadata": {},
   "outputs": [
    {
     "data": {
      "text/plain": [
       "-8"
      ]
     },
     "execution_count": 21,
     "metadata": {},
     "output_type": "execute_result"
    }
   ],
   "source": [
    "diskriminan_lamb(1, 2, 3)"
   ]
  },
  {
   "cell_type": "markdown",
   "id": "1e8e03ee-81bd-4c9c-94d4-f35a2a70d9b1",
   "metadata": {},
   "source": [
    "## Menghitung 2 titik koordinat"
   ]
  },
  {
   "cell_type": "code",
   "execution_count": 28,
   "id": "a6d40316-7d7a-465b-8d96-e506eacba0b5",
   "metadata": {},
   "outputs": [],
   "source": [
    "def haversine_distance(coord1, coord2):\n",
    "    R = 6372.8 # Earth radius in km\n",
    "    lat1, lon1 = coord1\n",
    "    lat2, lon2 = coord2\n",
    "    phi1, phi2 = np.radians(lat1), np.radians(lat2)\n",
    "    dphi = np.radians(lat2 - lat1)\n",
    "    dlambda = np.radians(lon2 - lon1)\n",
    "\n",
    "    a = haversine(dphi) + np.cos(phi1) * np.cos(phi2) * haversine(dlambda)\n",
    "\n",
    "    distance = 2 * R * np.arctan2(np.sqrt(a), np.sqrt(1 - a))\n",
    "    return distance"
   ]
  },
  {
   "cell_type": "code",
   "execution_count": 29,
   "id": "ea285c8c-104e-4754-a231-1b9ca89c0de8",
   "metadata": {},
   "outputs": [
    {
     "data": {
      "text/plain": [
       "5265.656325981015"
      ]
     },
     "execution_count": 29,
     "metadata": {},
     "output_type": "execute_result"
    }
   ],
   "source": [
    "london = 51.5074, -0.1278\n",
    "\n",
    "haversine_distance(boston, london)"
   ]
  }
 ],
 "metadata": {
  "kernelspec": {
   "display_name": "Python 3 (ipykernel)",
   "language": "python",
   "name": "python3"
  },
  "language_info": {
   "codemirror_mode": {
    "name": "ipython",
    "version": 3
   },
   "file_extension": ".py",
   "mimetype": "text/x-python",
   "name": "python",
   "nbconvert_exporter": "python",
   "pygments_lexer": "ipython3",
   "version": "3.12.4"
  }
 },
 "nbformat": 4,
 "nbformat_minor": 5
}
