{
 "cells": [
  {
   "cell_type": "code",
   "execution_count": 16,
   "id": "6c3b77a6-3722-4f31-9d87-200574c1b10c",
   "metadata": {},
   "outputs": [],
   "source": [
    "import numpy as np\n",
    "import sympy as sp\n",
    "\n",
    "from IPython.display import display, Math"
   ]
  },
  {
   "cell_type": "code",
   "execution_count": 2,
   "id": "7e241011-2426-41b6-8121-fa9354889eb4",
   "metadata": {},
   "outputs": [],
   "source": [
    "x = sp.symbols(\"x\")"
   ]
  },
  {
   "cell_type": "markdown",
   "id": "e85855fb-d57c-4e60-9e2e-2364afc53461",
   "metadata": {},
   "source": [
    "## NO. 1"
   ]
  },
  {
   "cell_type": "code",
   "execution_count": 13,
   "id": "fc3714fb-305d-413e-bee9-011ab4b40a9e",
   "metadata": {},
   "outputs": [
    {
     "data": {
      "text/latex": [
       "$\\displaystyle \\frac{1}{\\sqrt[6]{3 x^{6} + 5 x^{4}}}$"
      ],
      "text/plain": [
       "<IPython.core.display.Math object>"
      ]
     },
     "metadata": {},
     "output_type": "display_data"
    }
   ],
   "source": [
    "fungsi_1 = 1 / sp.Pow((5 * x ** 4 + 3 * x ** 6), sp.Rational(1,6))\n",
    "# sp.pprint(f)\n",
    "display(Math(sp.latex(fungsi_1)))"
   ]
  },
  {
   "cell_type": "markdown",
   "id": "c8804b0a-3c4e-49d8-8192-0bfc3eeb6283",
   "metadata": {},
   "source": [
    "## NO. 2"
   ]
  },
  {
   "cell_type": "code",
   "execution_count": 19,
   "id": "d142cc4d-5c97-442a-8eab-0ee3b5682ebc",
   "metadata": {
    "scrolled": true
   },
   "outputs": [
    {
     "data": {
      "text/latex": [
       "$\\displaystyle \\sqrt{x^{2} - 11} \\sqrt[3]{2 x^{2} + 3}$"
      ],
      "text/plain": [
       "<IPython.core.display.Math object>"
      ]
     },
     "metadata": {},
     "output_type": "display_data"
    }
   ],
   "source": [
    "fungsi_2 = sp.Pow(2 * x ** 2 + 3, sp.Rational(1, 3)) * sp.Pow(x ** 2 - 11, sp.Rational(1, 2))\n",
    "display(Math(sp.latex(fungsi_2)))"
   ]
  },
  {
   "cell_type": "markdown",
   "id": "d093d62e-c79a-49c0-a8d4-5578cf1dcc3e",
   "metadata": {},
   "source": [
    "## NO. 3"
   ]
  },
  {
   "cell_type": "code",
   "execution_count": 20,
   "id": "12039f62-1b1c-44ee-90cd-36905758d447",
   "metadata": {},
   "outputs": [
    {
     "data": {
      "text/latex": [
       "$\\displaystyle \\frac{\\sqrt{x^{2} - 2} \\left(x^{2} - 1\\right)^{4}}{\\sqrt[3]{2 x^{3} - 1}}$"
      ],
      "text/plain": [
       "<IPython.core.display.Math object>"
      ]
     },
     "metadata": {},
     "output_type": "display_data"
    }
   ],
   "source": [
    "fungsi_3 = ((x ** 2 - 1) ** 4 * sp.Pow((x ** 2 - 2), sp.Rational(1, 2))) / sp.Pow(2 * x ** 3 - 1, sp.Rational(1, 3))\n",
    "display(Math(sp.latex(fungsi_3)))"
   ]
  },
  {
   "cell_type": "markdown",
   "id": "9c347af9-117c-48a1-8629-4e2c6814a4a4",
   "metadata": {},
   "source": [
    "## NO. 4"
   ]
  },
  {
   "cell_type": "code",
   "execution_count": 25,
   "id": "aed6cf4a-d2b0-4da6-9bca-a527c63887a5",
   "metadata": {},
   "outputs": [
    {
     "data": {
      "text/latex": [
       "$\\displaystyle \\frac{\\cos{\\left(2 x \\right)}}{\\sin{\\left(2 x \\right)}}$"
      ],
      "text/plain": [
       "<IPython.core.display.Math object>"
      ]
     },
     "metadata": {},
     "output_type": "display_data"
    }
   ],
   "source": [
    "fungsi_4 = sp.cos(2 * x) / sp.sin(2 * x)\n",
    "display(Math(sp.latex(fungsi_4)))"
   ]
  },
  {
   "cell_type": "code",
   "execution_count": 28,
   "id": "4d8d473b-66bb-4814-aabd-e67be9a90b6c",
   "metadata": {},
   "outputs": [
    {
     "ename": "NameError",
     "evalue": "name 'f' is not defined",
     "output_type": "error",
     "traceback": [
      "\u001b[1;31m---------------------------------------------------------------------------\u001b[0m",
      "\u001b[1;31mNameError\u001b[0m                                 Traceback (most recent call last)",
      "Cell \u001b[1;32mIn[28], line 1\u001b[0m\n\u001b[1;32m----> 1\u001b[0m fDiff \u001b[38;5;241m=\u001b[39m sp\u001b[38;5;241m.\u001b[39mdiff(f, x)\n\u001b[0;32m      2\u001b[0m display(Math(sp\u001b[38;5;241m.\u001b[39mlatex(fDiff)))\n",
      "\u001b[1;31mNameError\u001b[0m: name 'f' is not defined"
     ]
    }
   ],
   "source": [
    "fDiff = sp.diff(f, x)\n",
    "display(Math(sp.latex(fDiff)))"
   ]
  }
 ],
 "metadata": {
  "kernelspec": {
   "display_name": "Python 3 (ipykernel)",
   "language": "python",
   "name": "python3"
  },
  "language_info": {
   "codemirror_mode": {
    "name": "ipython",
    "version": 3
   },
   "file_extension": ".py",
   "mimetype": "text/x-python",
   "name": "python",
   "nbconvert_exporter": "python",
   "pygments_lexer": "ipython3",
   "version": "3.12.4"
  }
 },
 "nbformat": 4,
 "nbformat_minor": 5
}
