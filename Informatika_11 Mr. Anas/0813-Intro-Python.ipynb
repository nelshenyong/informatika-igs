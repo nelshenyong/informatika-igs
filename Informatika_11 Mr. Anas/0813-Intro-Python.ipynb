{
 "cells": [
  {
   "cell_type": "code",
   "execution_count": null,
   "id": "80c46973-2fe3-41f6-84dc-91fafe269509",
   "metadata": {},
   "outputs": [],
   "source": [
    "a = 13 # int\n",
    "b = 20.45 # float\n",
    "\n",
    "print(type(a))\n",
    "print(type(b))\n",
    "\n",
    "print(2/3)\n",
    "print(2//3)"
   ]
  },
  {
   "cell_type": "code",
   "execution_count": 6,
   "id": "645e9237-7a89-4220-8f74-4c807259f3e8",
   "metadata": {},
   "outputs": [
    {
     "name": "stdout",
     "output_type": "stream",
     "text": [
      "2 + 2 is 5\n",
      "3 * 4 is 12\n",
      "100 - 1 is 99\n",
      "(33 + 2) / 5 + 11.5 is 18.5\n",
      "Fristish Grade\n",
      "1 + 1 = 2\n",
      "2 + 4 = 6\n",
      "5 - 2 = 3\n",
      "\n",
      "Thirdish Grade\n",
      "243 - 23 = 220\n",
      "12 * 4 = 48\n",
      "12 / 3 = 4.0\n",
      "13 / 3 = 4 R 1\n",
      "\n",
      "Junior High\n",
      "123.56 - 62.12 = 61.440000000000005\n",
      "(4 + 3) * 2 = 14\n",
      "4 + 3 * 2 10\n",
      "3 ** 2 = 9\n"
     ]
    }
   ],
   "source": [
    "print(\"2 + 2 is\", 2 + 3)\n",
    "print(\"3 * 4 is\", 3 * 4)\n",
    "print(\"100 - 1 is\", 100 - 1)\n",
    "print(\"(33 + 2) / 5 + 11.5 is\", (33 + 2) / 5 + 11.5)\n",
    "\n",
    "print(\"Fristish Grade\")\n",
    "print(\"1 + 1 =\", 1 + 1)\n",
    "print(\"2 + 4 =\", 2 + 4)\n",
    "print(\"5 - 2 =\", 5 - 2)\n",
    "print()\n",
    "print(\"Thirdish Grade\")\n",
    "print(\"243 - 23 =\", 243 - 23)\n",
    "print(\"12 * 4 =\", 12 * 4)\n",
    "print(\"12 / 3 =\", 12 / 3)\n",
    "print(\"13 / 3 =\", 13 // 3, \"R\", 13 % 3)\n",
    "print()\n",
    "print(\"Junior High\")\n",
    "print(\"123.56 - 62.12 =\", 123.56 - 62.12)\n",
    "print(\"(4 + 3) * 2 =\", (4 + 3) * 2)\n",
    "print(\"4 + 3 * 2\", 4 + 3 * 2)\n",
    "print(\"3 ** 2 =\", 3 ** 2)"
   ]
  },
  {
   "cell_type": "markdown",
   "id": "ffc48ec0-d1e6-4df6-9286-e5282fe7ac81",
   "metadata": {},
   "source": [
    "## Math Function usinng Numpy"
   ]
  },
  {
   "cell_type": "code",
   "execution_count": null,
   "id": "060ff164-28c3-45a0-b5ec-3d0802bc4950",
   "metadata": {},
   "outputs": [],
   "source": [
    "import numpy as np"
   ]
  },
  {
   "cell_type": "code",
   "execution_count": 11,
   "id": "54955881-b658-4bb2-8ef7-1998950561ee",
   "metadata": {},
   "outputs": [
    {
     "name": "stdout",
     "output_type": "stream",
     "text": [
      "3.141592653589793\n",
      "2.718281828459045\n",
      "2.718281828459045\n"
     ]
    }
   ],
   "source": [
    "# Constance\n",
    "\n",
    "print(np.pi)\n",
    "print(np.e)\n",
    "print(np.exp(1))"
   ]
  },
  {
   "cell_type": "markdown",
   "id": "b01c257e-9168-4e9a-91d6-3e94a88c3299",
   "metadata": {},
   "source": [
    "## Rate & Distance Problem"
   ]
  },
  {
   "cell_type": "code",
   "execution_count": 14,
   "id": "feb1cd4f-ae21-48a7-be97-918e0c9128de",
   "metadata": {
    "scrolled": true
   },
   "outputs": [
    {
     "name": "stdout",
     "output_type": "stream",
     "text": [
      "Input a rate and a distance\n"
     ]
    },
    {
     "name": "stdin",
     "output_type": "stream",
     "text": [
      "Rate:  1\n",
      "Distance:  1\n"
     ]
    },
    {
     "name": "stdout",
     "output_type": "stream",
     "text": [
      "Time 1.0\n"
     ]
    }
   ],
   "source": [
    "print(\"Input a rate and a distance\")\n",
    "rate = float(input(\"Rate: \"))\n",
    "distance = float(input(\"Distance: \"))\n",
    "time = (distance / rate)\n",
    "print(\"Time\", time)"
   ]
  },
  {
   "cell_type": "markdown",
   "id": "3f9a70ee-65d2-49ef-bfb8-a7ae4fd037d8",
   "metadata": {},
   "source": [
    "## Area & Perimeter of Circle"
   ]
  },
  {
   "cell_type": "code",
   "execution_count": 16,
   "id": "b5ce5c58-5352-4dc4-aa9a-9276a62318bd",
   "metadata": {},
   "outputs": [
    {
     "name": "stdin",
     "output_type": "stream",
     "text": [
      "Radius:  2\n"
     ]
    },
    {
     "name": "stdout",
     "output_type": "stream",
     "text": [
      "Area is 12.566370614359172  and Perimeter is 12.566370614359172\n"
     ]
    }
   ],
   "source": [
    "radius = float(input(\"Radius: \"))\n",
    "area = np.pi * radius * radius\n",
    "perimeter = 2 * np.pi * radius\n",
    "\n",
    "print(\"Area is\", area, \" and Perimeter is\", perimeter)"
   ]
  },
  {
   "cell_type": "markdown",
   "id": "1069e2a0-11cf-4cde-bbd1-e605c373e1b6",
   "metadata": {},
   "source": [
    "## Calculating with Variable"
   ]
  },
  {
   "cell_type": "code",
   "execution_count": null,
   "id": "0f5a4b47-2a1a-4aa4-a8af-1dea391485b1",
   "metadata": {},
   "outputs": [],
   "source": [
    "\n",
    "```\n",
    "where r is the annual interest rate and n is the compounding frequency.\n",
    "For example, if you deposit $2,100 in a bank paying an annual interest \n",
    "rate of 3.4% compounded four times a year, we can compute the balance \n",
    "after 7 years by defining these variables:\n",
    "```\n",
    "P = 2100\n",
    "r = 0.034\n",
    "n = 4\n",
    "t = 7\n",
    "\n",
    "V = P * (1 + r/n) ** (n * t)\n",
    "print(V)"
   ]
  },
  {
   "cell_type": "markdown",
   "id": "71a33704-ebd3-4cf3-9bf4-274ad1306b3d",
   "metadata": {},
   "source": [
    "Exercise: Continuing the previous example, suppose you start with the same principle and the same interest rate, but interest is compounded twice per year, so n = 2. What would the total value be after 7 years? Hint: we expect the answer to be a bit less than the previous answer."
   ]
  },
  {
   "cell_type": "code",
   "execution_count": 26,
   "id": "7e44ab2f-3700-4f43-a6b8-cdbfc3f2e008",
   "metadata": {},
   "outputs": [
    {
     "name": "stdout",
     "output_type": "stream",
     "text": [
      "Total: 18915.65\n"
     ]
    }
   ],
   "source": [
    "'''\n",
    "Exercise: Continuing the previous example, suppose you start with \n",
    "the same principle and the same interest rate, but interest is \n",
    "compounded twice per year, so n = 2. What would the total value be after 7 years? \n",
    "Hint: we expect the answer to be a bit less than the previous answer.\n",
    "'''\n",
    "\n",
    "P = 2100\n",
    "r = 0.34\n",
    "n = 2\n",
    "t = 7\n",
    "\n",
    "A = P * (1 + r/n)**(n*t)\n",
    "\n",
    "print(f\"Total: {A:.2f}\")\n"
   ]
  },
  {
   "cell_type": "code",
   "execution_count": 25,
   "id": "134c75ae-4a25-4092-a17d-52d2c4f4fc3e",
   "metadata": {},
   "outputs": [
    {
     "name": "stdout",
     "output_type": "stream",
     "text": [
      "Total: 1419.07\n"
     ]
    }
   ],
   "source": [
    "'''\n",
    "Exercise: If interest is compounded continuously, the value after time t is V = P e^rt. \n",
    "Translate this equation into Python and use it compute the value of the investment \n",
    "in the previous example with continuous compounding. Hint: we expect the answer to \n",
    "be a bit more than the previous answers.\n",
    "'''\n",
    "\n",
    "P = 1000 \n",
    "r = 0.05\n",
    "t = 7\n",
    "\n",
    "e = 2.718281828459045\n",
    "V = P * e**(r * t)\n",
    "\n",
    "print(f\"Total: {V:.2f}\")"
   ]
  },
  {
   "cell_type": "code",
   "execution_count": 45,
   "id": "c44c2576-db76-4594-9ae5-90c04f31db19",
   "metadata": {},
   "outputs": [
    {
     "name": "stdout",
     "output_type": "stream",
     "text": [
      "0.49999999999999994\n",
      "sin(0°) 0.0\n",
      "sin(30°) 0.49999999999999994\n",
      "sin(45°) 0.7071067811865476\n",
      "sin(60°) 0.8660254037844386\n",
      "sin(90°) 1.0\n",
      "cos(0°) 1.0\n",
      "cos(30°) 0.8660254037844387\n",
      "cos(45°) 0.7071067811865476\n",
      "cos(60°) 0.5000000000000001\n",
      "cos(90°) 6.123233995736766e-17\n",
      "tan(0°) 0.0\n",
      "tan(30°) 0.5773502691896257\n",
      "tan(45°) 0.9999999999999999\n",
      "tan(60°) 1.7320508075688767\n",
      "tan(90°) 1.633123935319537e+16\n"
     ]
    }
   ],
   "source": [
    "print(np.sin(np.pi/6))\n",
    "\n",
    "print(\"sin(0°)\", np.sin(np.radians(0)))\n",
    "print(\"sin(30°)\", np.sin(np.radians(30)))\n",
    "print(\"sin(45°)\", np.sin(np.radians(45)))\n",
    "print(\"sin(60°)\", np.sin(np.radians(60)))\n",
    "print(\"sin(90°)\", np.sin(np.radians(90)))\n",
    "print()\n",
    "print(\"cos(0°)\", np.cos(np.radians(0)))\n",
    "print(\"cos(30°)\", np.cos(np.radians(30)))\n",
    "print(\"cos(45°)\", np.cos(np.radians(45)))\n",
    "print(\"cos(60°)\", np.cos(np.radians(60)))\n",
    "print(\"cos(90°)\", np.cos(np.radians(90)))\n",
    "print()\n",
    "print(\"tan(0°)\", np.tan(np.radians(0)))\n",
    "print(\"tan(30°)\", np.tan(np.radians(30)))\n",
    "print(\"tan(45°)\", np.tan(np.radians(45)))\n",
    "print(\"tan(60°)\", np.tan(np.radians(60)))\n",
    "print(\"tan(90°)\", np.tan(np.radians(90)))"
   ]
  },
  {
   "cell_type": "markdown",
   "id": "e293cffb-d331-4df0-8355-9569ead5b66a",
   "metadata": {},
   "source": [
    "## Computer Alegebra System using Sympy"
   ]
  },
  {
   "cell_type": "code",
   "execution_count": 36,
   "id": "26b4734b-d793-4f7b-877d-df41d23e2847",
   "metadata": {},
   "outputs": [],
   "source": [
    "import sympy as sp"
   ]
  },
  {
   "cell_type": "code",
   "execution_count": 31,
   "id": "e979c123-9eb9-4404-91c1-0b3e081d5b7c",
   "metadata": {},
   "outputs": [
    {
     "name": "stdout",
     "output_type": "stream",
     "text": [
      "Requirement already satisfied: sympy in c:\\users\\user\\anaconda3\\lib\\site-packages (1.12)\n",
      "Requirement already satisfied: mpmath>=0.19 in c:\\users\\user\\anaconda3\\lib\\site-packages (from sympy) (1.3.0)\n"
     ]
    }
   ],
   "source": [
    "!pip install sympy"
   ]
  },
  {
   "cell_type": "code",
   "execution_count": 37,
   "id": "915afa4c-fd62-41b7-94c9-18b99908748f",
   "metadata": {
    "scrolled": true
   },
   "outputs": [
    {
     "name": "stdout",
     "output_type": "stream",
     "text": [
      "5*x**4/2\n"
     ]
    }
   ],
   "source": [
    "x = sp.symbols('x')\n",
    "f = 5 * (x ** 4) / 2\n",
    "print(f)"
   ]
  },
  {
   "cell_type": "code",
   "execution_count": 38,
   "id": "53eaa085-8eda-407c-81b0-c74a464a1125",
   "metadata": {},
   "outputs": [
    {
     "name": "stdout",
     "output_type": "stream",
     "text": [
      "   4\n",
      "5⋅x \n",
      "────\n",
      " 2  \n"
     ]
    }
   ],
   "source": [
    "sp.pprint(f)"
   ]
  },
  {
   "cell_type": "code",
   "execution_count": 39,
   "id": "f16702b1-2567-49c5-b939-2de0c88ca6ea",
   "metadata": {},
   "outputs": [
    {
     "name": "stdout",
     "output_type": "stream",
     "text": [
      "    3\n",
      "10⋅x \n"
     ]
    }
   ],
   "source": [
    "turunan = sp.diff(f, x)\n",
    "sp.pprint(turunan)"
   ]
  },
  {
   "cell_type": "code",
   "execution_count": 46,
   "id": "a69f25ed-9e49-4b19-a621-c340fdda0dc5",
   "metadata": {},
   "outputs": [
    {
     "name": "stdout",
     "output_type": "stream",
     "text": [
      "640\n"
     ]
    }
   ],
   "source": [
    "value_at_4 = turunan.subs(x, 4)\n",
    "print(value_at_4)"
   ]
  },
  {
   "cell_type": "code",
   "execution_count": 47,
   "id": "9b62fa81-2a8d-46fc-b7fb-d8f1607f4cb3",
   "metadata": {},
   "outputs": [
    {
     "name": "stdout",
     "output_type": "stream",
     "text": [
      "640\n"
     ]
    }
   ],
   "source": [
    "func = sp.lambdify(x, turunan)\n",
    "print(func(4))"
   ]
  },
  {
   "cell_type": "code",
   "execution_count": null,
   "id": "a8d4bc92-2078-45c0-a39a-4ac8e1143e54",
   "metadata": {},
   "outputs": [],
   "source": [
    "## Difference between trigonometry in Numpy and Sympy"
   ]
  },
  {
   "cell_type": "code",
   "execution_count": 53,
   "id": "3785c0b2-c5e2-4590-93ed-b7cf18db0278",
   "metadata": {},
   "outputs": [
    {
     "name": "stdout",
     "output_type": "stream",
     "text": [
      "Menurut SymPy, sin(pi) = 0\n",
      "Menurut NumPy, sin(pi) = 1.2246467991473532e-16\n"
     ]
    }
   ],
   "source": [
    "print(\"Menurut SymPy, sin(pi) = \" + str(sp.sin(sp.pi)))\n",
    "print(\"Menurut NumPy, sin(pi) = \" + str(np.sin(np.pi)))"
   ]
  },
  {
   "cell_type": "code",
   "execution_count": 55,
   "id": "238f47a1-d713-4c5c-b37d-ad7caf6c584e",
   "metadata": {},
   "outputs": [
    {
     "name": "stdout",
     "output_type": "stream",
     "text": [
      "Fungsinya: \n",
      " 2           -5⋅x\n",
      "x ⋅cos(x) + ℯ    \n",
      "Turunannya: \n",
      "   2                          -5⋅x\n",
      "- x ⋅sin(x) + 2⋅x⋅cos(x) - 5⋅ℯ    \n"
     ]
    }
   ],
   "source": [
    "g = x**2 * sp.cos(x) + sp.exp(-5*x)\n",
    "print(\"Fungsinya: \")\n",
    "sp.pprint(g)\n",
    "\n",
    "gp = sp.diff(g, x)\n",
    "print(\"Turunannya: \")\n",
    "sp.pprint(gp)"
   ]
  },
  {
   "cell_type": "code",
   "execution_count": 75,
   "id": "ad7eccda-072a-4229-b430-907c3b649785",
   "metadata": {},
   "outputs": [
    {
     "name": "stdout",
     "output_type": "stream",
     "text": [
      "(3*x**6 + 5*x**4)**(-0.166666666666667)\n",
      "             -0.166666666666667\n",
      "⎛   6      4⎞                  \n",
      "⎝3⋅x  + 5⋅x ⎠                  \n",
      "\n",
      "(x**2 - 11)**0.5*(2*x**2 + 3)**0.333333333333333\n",
      "         0.5           0.333333333333333\n",
      "⎛ 2     ⎞    ⎛   2    ⎞                 \n",
      "⎝x  - 11⎠   ⋅⎝2⋅x  + 3⎠                 \n",
      "\n",
      "((x**2 - 2)*(x**2 - 1)**4)**0.5/(2*x**3 - 1)\n",
      "                    0.5\n",
      "⎛                 4⎞   \n",
      "⎜⎛ 2    ⎞ ⎛ 2    ⎞ ⎟   \n",
      "⎝⎝x  - 2⎠⋅⎝x  - 1⎠ ⎠   \n",
      "───────────────────────\n",
      "           3           \n",
      "        2⋅x  - 1       \n",
      "\n",
      "cos(2*x)/sin(2*x)\n",
      "cos(2⋅x)\n",
      "────────\n",
      "sin(2⋅x)\n"
     ]
    }
   ],
   "source": [
    "x = sp.symbols('x')\n",
    "\n",
    "fungsi_1 = 1 / sp.Pow(5 * x ** 4 + 3 * x ** 6, 1/6)\n",
    "print(fungsi_1)\n",
    "sp.pprint(fungsi_1)\n",
    "\n",
    "print()\n",
    "\n",
    "fungsi_2 = sp.Pow(2 * x ** 2 + 3, 1/3) * sp.Pow(x ** 2 - 11, 1/2)\n",
    "print(fungsi_2)\n",
    "sp.pprint(fungsi_2)\n",
    "\n",
    "print()\n",
    "\n",
    "fungsi_3 = sp.Pow((x ** 2 - 1) ** 4 * (x ** 2 - 2), 1/2) / (2 * x ** 3 - 1)\n",
    "print(fungsi_3)\n",
    "sp.pprint(fungsi_3)\n",
    "\n",
    "print()\n",
    "\n",
    "fungsi_4 = (sp.cos(2 * x)) / (sp.sin(2 * x))\n",
    "print(fungsi_4)\n",
    "sp.pprint(fungsi_4)"
   ]
  },
  {
   "cell_type": "code",
   "execution_count": null,
   "id": "7fa82381-12cf-476b-a24c-1f4a3716c32d",
   "metadata": {},
   "outputs": [],
   "source": []
  }
 ],
 "metadata": {
  "kernelspec": {
   "display_name": "Python 3 (ipykernel)",
   "language": "python",
   "name": "python3"
  },
  "language_info": {
   "codemirror_mode": {
    "name": "ipython",
    "version": 3
   },
   "file_extension": ".py",
   "mimetype": "text/x-python",
   "name": "python",
   "nbconvert_exporter": "python",
   "pygments_lexer": "ipython3",
   "version": "3.12.4"
  }
 },
 "nbformat": 4,
 "nbformat_minor": 5
}
