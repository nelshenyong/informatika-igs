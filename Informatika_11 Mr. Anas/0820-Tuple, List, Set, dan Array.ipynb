{
 "cells": [
  {
   "cell_type": "markdown",
   "id": "31ca5b4c-b4f2-45a8-8a7f-52d91481f4d0",
   "metadata": {},
   "source": [
    "## TUPLE"
   ]
  },
  {
   "cell_type": "code",
   "execution_count": 2,
   "id": "44848cfd-1068-4715-9059-5a3239e78519",
   "metadata": {},
   "outputs": [
    {
     "name": "stdout",
     "output_type": "stream",
     "text": [
      "(2, 3)\n",
      "(4, 'abc')\n",
      "('k', 'a', 'c', 'a', 'n', 'g')\n"
     ]
    }
   ],
   "source": [
    "# Membuat tuple\n",
    "t1 = (2, 3)\n",
    "t2 = (4, 'abc')\n",
    "t3 = tuple('kacang')\n",
    "\n",
    "print(t1)\n",
    "print(t2)\n",
    "print(t3)"
   ]
  },
  {
   "cell_type": "code",
   "execution_count": 3,
   "id": "d516cfd1-77df-4e70-a044-00f1c5dc9802",
   "metadata": {},
   "outputs": [
    {
     "name": "stdout",
     "output_type": "stream",
     "text": [
      "1 2 3 4\n"
     ]
    }
   ],
   "source": [
    "numbers = (1, 2, 3, 4)\n",
    "\n",
    "a, b, c, d = numbers\n",
    "print(a, b, c, d)"
   ]
  },
  {
   "cell_type": "code",
   "execution_count": 4,
   "id": "8afdba81-ae58-4d89-ac24-59998db7af49",
   "metadata": {},
   "outputs": [
    {
     "name": "stdout",
     "output_type": "stream",
     "text": [
      "(3, 4)\n",
      "(16, 9)\n",
      "3 4\n"
     ]
    }
   ],
   "source": [
    "resolutions = (\n",
    "    (3, 4),\n",
    "    (16, 9)\n",
    ")\n",
    "print(resolutions[0])\n",
    "print(resolutions[1])\n",
    "\n",
    "print(resolutions[0][0], resolutions[0][1])"
   ]
  },
  {
   "cell_type": "markdown",
   "id": "465ab50e-91ae-4ff0-a4e2-78b1b0fee3d8",
   "metadata": {},
   "source": [
    "## LIST"
   ]
  },
  {
   "cell_type": "code",
   "execution_count": 6,
   "id": "c3da2ef1-a7ec-449b-ace4-923c176a14e2",
   "metadata": {},
   "outputs": [
    {
     "name": "stdout",
     "output_type": "stream",
     "text": [
      "[10, -1, 13.7]\n",
      "['apel', 'pisang', 'mangga']\n",
      "[-75, 'kartu', True]\n",
      "['r', 'u', 'm', 'p', 'u', 't']\n"
     ]
    }
   ],
   "source": [
    "## Membuat List\n",
    "list1 = [10, -1, 13.7]\n",
    "list2 = [\"apel\", \"pisang\", \"mangga\"]\n",
    "list3 = [-75, \"kartu\", True]\n",
    "list4 = list(\"rumput\")\n",
    "\n",
    "print(list1)\n",
    "print(list2)\n",
    "print(list3)\n",
    "print(list4)"
   ]
  },
  {
   "cell_type": "code",
   "execution_count": 16,
   "id": "984e9210-19e6-4170-8fd8-6e5e68e3a8cf",
   "metadata": {},
   "outputs": [
    {
     "name": "stdout",
     "output_type": "stream",
     "text": [
      "['andi', 'budi', 'cindy', 'dony']\n",
      "['andi', 'x', 'budi', 'cindy', 'dony']\n",
      "['andi', 'x', 'budi', 'dony']\n",
      "['andi', 'x', 'budi']\n"
     ]
    }
   ],
   "source": [
    "names = ['andi', 'budi', 'cindy']\n",
    "\n",
    "#append\n",
    "names.append('dony')\n",
    "print(names)\n",
    "\n",
    "#insert\n",
    "names.insert(1, 'x')\n",
    "print(names)\n",
    "\n",
    "#remove\n",
    "names.remove('cindy')\n",
    "print(names)\n",
    "\n",
    "#pop\n",
    "names.pop(-1)\n",
    "print(names)"
   ]
  },
  {
   "cell_type": "code",
   "execution_count": 18,
   "id": "bc521f62-0553-445a-b592-cea4896f4630",
   "metadata": {},
   "outputs": [
    {
     "name": "stdout",
     "output_type": "stream",
     "text": [
      "['cat', 'dog', 'beaver', 'capybara']\n"
     ]
    }
   ],
   "source": [
    "pets = ['cat', 'dog']\n",
    "new_pets = ['beaver', 'capybara']\n",
    "\n",
    "#print(pets + new_pers)\n",
    "pets.extend(new_pets)\n",
    "print(pets)"
   ]
  },
  {
   "cell_type": "code",
   "execution_count": 22,
   "id": "194ae5bc-8aa0-4bd2-a5d8-c1d0d1c52fed",
   "metadata": {},
   "outputs": [
    {
     "name": "stdout",
     "output_type": "stream",
     "text": [
      "['beaver', 'capybara', 'cat', 'dog']\n"
     ]
    },
    {
     "data": {
      "text/plain": [
       "['beaver', 'capybara']"
      ]
     },
     "execution_count": 22,
     "metadata": {},
     "output_type": "execute_result"
    }
   ],
   "source": [
    "pets.sort()\n",
    "print(pets)\n",
    "\n",
    "sorted(new_pets)"
   ]
  },
  {
   "cell_type": "code",
   "execution_count": 24,
   "id": "7eedf869-5cd6-4ac5-ac44-93bdd64880d3",
   "metadata": {},
   "outputs": [
    {
     "name": "stdout",
     "output_type": "stream",
     "text": [
      "beaver capybara cat dog \n"
     ]
    }
   ],
   "source": [
    "#print(pets[0])\n",
    "#print(pets[1])\n",
    "\n",
    "for pet in pets:\n",
    "    print(pet, end=\" \")\n",
    "print()"
   ]
  },
  {
   "cell_type": "code",
   "execution_count": 26,
   "id": "cc3406a9-d295-44d5-807e-6963fe797244",
   "metadata": {},
   "outputs": [
    {
     "name": "stdout",
     "output_type": "stream",
     "text": [
      "beaver capybara cat dog \n"
     ]
    }
   ],
   "source": [
    "for i in range(0, 4):\n",
    "    print(pets[i], end=\" \")\n",
    "print()"
   ]
  },
  {
   "cell_type": "code",
   "execution_count": 28,
   "id": "3ac95cf8-2bdf-498c-81b4-1e0a2f0f580c",
   "metadata": {},
   "outputs": [
    {
     "name": "stdout",
     "output_type": "stream",
     "text": [
      "beaver capybara cat dog \n"
     ]
    }
   ],
   "source": [
    "index = 0\n",
    "while (index < len(pets)):\n",
    "    print(pets[index], end=\" \")\n",
    "    index +=1\n",
    "print()"
   ]
  },
  {
   "cell_type": "code",
   "execution_count": 46,
   "id": "92a45a6d-f69c-4ca3-a29f-a6d3c73fdbdf",
   "metadata": {},
   "outputs": [
    {
     "name": "stdout",
     "output_type": "stream",
     "text": [
      "['pineapple', 'pepperoni', 'tomato']\n",
      "['pepperoni', 'tomato']\n"
     ]
    }
   ],
   "source": [
    "# copying list\n",
    "toppings = ['pineapple', 'pepperoni', 'tomato']\n",
    "my_copy_toppings = toppings [:]\n",
    "\n",
    "my_copy_toppings.pop(0)\n",
    "print(toppings)\n",
    "print(my_copy_toppings)"
   ]
  },
  {
   "cell_type": "markdown",
   "id": "6657cd9b-02fd-4992-80d2-c205c6ee5d77",
   "metadata": {},
   "source": [
    "## SET"
   ]
  },
  {
   "cell_type": "code",
   "execution_count": 31,
   "id": "59d7e150-dd53-4523-b31d-719cd46d8ccd",
   "metadata": {},
   "outputs": [
    {
     "name": "stdout",
     "output_type": "stream",
     "text": [
      "{'bebek', 'ayam', 'kuda'}\n",
      "{'n', 'c', 'g', 'k', 'a'}\n"
     ]
    }
   ],
   "source": [
    "# Membuat set\n",
    "s1 = {'ayam', 'bebek', 'ayam', 'kuda'}\n",
    "s2 = set(list('kacang'))\n",
    "\n",
    "print(s1)\n",
    "print(s2)"
   ]
  },
  {
   "cell_type": "code",
   "execution_count": 33,
   "id": "425b07c6-0464-4798-a059-f80b4b7e7c87",
   "metadata": {},
   "outputs": [
    {
     "name": "stdout",
     "output_type": "stream",
     "text": [
      "{'t', 'e', 'i', 'm', 'k', 'a'}\n",
      "{'t', 'i', 'k', 'a', 's'}\n",
      "{'t', 'i', 'u', 'r', 'k', 'a'}\n"
     ]
    }
   ],
   "source": [
    "s3 = set('matematika')\n",
    "s4 = set('statistika')\n",
    "s5 = set('aktuaria')\n",
    "\n",
    "print(s3)\n",
    "print(s4)\n",
    "print(s5)"
   ]
  },
  {
   "cell_type": "code",
   "execution_count": 35,
   "id": "d455cccc-6821-4a7b-8635-c580e0731603",
   "metadata": {},
   "outputs": [
    {
     "name": "stdout",
     "output_type": "stream",
     "text": [
      "{'k', 't', 'a', 'i'}\n"
     ]
    }
   ],
   "source": [
    "print(s3 & s4) # irisan / intersection"
   ]
  },
  {
   "cell_type": "code",
   "execution_count": 37,
   "id": "eb09a5cb-c596-4486-bd69-51f76a0513da",
   "metadata": {},
   "outputs": [
    {
     "name": "stdout",
     "output_type": "stream",
     "text": [
      "{'t', 'e', 'i', 'm', 'k', 'a', 's'}\n"
     ]
    }
   ],
   "source": [
    "print(s3 | s4) # gabungan / union"
   ]
  },
  {
   "cell_type": "code",
   "execution_count": 39,
   "id": "4a99c940-ee0d-484d-9907-6b2e4d69f7a8",
   "metadata": {},
   "outputs": [
    {
     "name": "stdout",
     "output_type": "stream",
     "text": [
      "False\n",
      "True\n"
     ]
    }
   ],
   "source": [
    "#subset\n",
    "print(s4 <= s5)\n",
    "print( {3, 4} <= {1, 2, 3, 4, 5})"
   ]
  },
  {
   "cell_type": "code",
   "execution_count": 41,
   "id": "0d0123dd-2ee3-4b81-8649-fbf2cb7b81d5",
   "metadata": {},
   "outputs": [
    {
     "name": "stdout",
     "output_type": "stream",
     "text": [
      "False\n",
      "True\n"
     ]
    }
   ],
   "source": [
    "#super set\n",
    "print(s4 >= s3)\n",
    "print( {3, 4, 5, 6, 7, 8} >= {7, 4})"
   ]
  },
  {
   "cell_type": "markdown",
   "id": "96ed9987-46f5-49f6-8ad8-2997f80ac8ee",
   "metadata": {},
   "source": [
    "## NUMPY ARRAY"
   ]
  },
  {
   "cell_type": "code",
   "execution_count": 49,
   "id": "3dad5e87-9747-40ad-b655-41499239e172",
   "metadata": {},
   "outputs": [],
   "source": [
    "import numpy as np"
   ]
  },
  {
   "cell_type": "code",
   "execution_count": 51,
   "id": "09f97899-1321-4447-81d8-ff7ace105eea",
   "metadata": {},
   "outputs": [
    {
     "name": "stdout",
     "output_type": "stream",
     "text": [
      "[0. 0. 0. 0. 0.]\n",
      "[1. 1. 1.]\n",
      "<class 'numpy.ndarray'>\n",
      "<class 'numpy.ndarray'>\n"
     ]
    }
   ],
   "source": [
    "array1 = np.zeros(5)\n",
    "array2 = np.ones(3)\n",
    "\n",
    "print(array1)\n",
    "print(array2)\n",
    "print(type(array1))\n",
    "print(type(array2))"
   ]
  },
  {
   "cell_type": "code",
   "execution_count": 55,
   "id": "094b6065-effd-46a1-b3b2-2ec6f7c9f0fa",
   "metadata": {},
   "outputs": [
    {
     "name": "stdout",
     "output_type": "stream",
     "text": [
      "[0. 0. 0. 0. 0.]\n",
      "[10 -5  2 17]\n"
     ]
    }
   ],
   "source": [
    "array3 = np.array([0, 0, 0, 0, 0], dtype='float')\n",
    "print(array3)\n",
    "\n",
    "array4 = np.array([10, -5, 2, 17])\n",
    "print(array4)"
   ]
  },
  {
   "cell_type": "code",
   "execution_count": 67,
   "id": "9e1425af-1647-4329-aef9-31238f184b6c",
   "metadata": {},
   "outputs": [
    {
     "name": "stdout",
     "output_type": "stream",
     "text": [
      "[17.6  24.3   2.5   3.75  5.    6.25  7.5   8.75]\n"
     ]
    }
   ],
   "source": [
    "array5 = np.empty(8)\n",
    "print(array5)"
   ]
  },
  {
   "cell_type": "code",
   "execution_count": 61,
   "id": "752f5c03-aa16-49b4-af41-0587aea2180e",
   "metadata": {},
   "outputs": [
    {
     "name": "stdout",
     "output_type": "stream",
     "text": [
      "[-17.6   24.3    2.5    3.75   5.     6.25   7.5    8.75]\n"
     ]
    }
   ],
   "source": [
    "array5[0] = -17.6\n",
    "array5[1] = 24.3\n",
    "\n",
    "for i in range(2, len(array5)): # dari i=2 sampai i=7\n",
    "    array5[i] = 5*i/4\n",
    "print(array5)"
   ]
  },
  {
   "cell_type": "code",
   "execution_count": 69,
   "id": "713c0b8f-ebc8-45f5-b72c-d5097399d1cf",
   "metadata": {},
   "outputs": [],
   "source": [
    "boston_price_list = [9.99, 7.99, 7.49, 7.00, 6.29, 4.99]\n",
    "london_price_list = [7.5, 5, 4.4, 5, 3.75, 2.25]"
   ]
  },
  {
   "cell_type": "code",
   "execution_count": 71,
   "id": "de70f026-0940-4054-a91b-132888e5b671",
   "metadata": {},
   "outputs": [
    {
     "data": {
      "text/plain": [
       "[9.99, 7.99, 7.49, 7.0, 6.29, 4.99, 7.5, 5, 4.4, 5, 3.75, 2.25]"
      ]
     },
     "execution_count": 71,
     "metadata": {},
     "output_type": "execute_result"
    }
   ],
   "source": [
    "boston_price_list + london_price_list"
   ]
  },
  {
   "cell_type": "code",
   "execution_count": 73,
   "id": "28249ab0-b49a-4442-b77a-4f9d00a4a96f",
   "metadata": {},
   "outputs": [
    {
     "ename": "TypeError",
     "evalue": "unsupported operand type(s) for -: 'list' and 'list'",
     "output_type": "error",
     "traceback": [
      "\u001b[1;31m---------------------------------------------------------------------------\u001b[0m",
      "\u001b[1;31mTypeError\u001b[0m                                 Traceback (most recent call last)",
      "Cell \u001b[1;32mIn[73], line 1\u001b[0m\n\u001b[1;32m----> 1\u001b[0m boston_price_list \u001b[38;5;241m-\u001b[39m london_price_list\n",
      "\u001b[1;31mTypeError\u001b[0m: unsupported operand type(s) for -: 'list' and 'list'"
     ]
    }
   ],
   "source": [
    "boston_price_list - london_price_list"
   ]
  },
  {
   "cell_type": "code",
   "execution_count": 75,
   "id": "7be69b47-b350-47d1-9db7-84c7c379cf74",
   "metadata": {},
   "outputs": [
    {
     "data": {
      "text/plain": [
       "array([2.49, 2.99, 3.09, 2.  , 2.54, 2.74])"
      ]
     },
     "execution_count": 75,
     "metadata": {},
     "output_type": "execute_result"
    }
   ],
   "source": [
    "boston_price_array = np.array(boston_price_list)\n",
    "london_price_array = np.array(london_price_list)\n",
    "differences = boston_price_array - london_price_array\n",
    "differences"
   ]
  },
  {
   "cell_type": "code",
   "execution_count": 77,
   "id": "79d1e58b-79d4-4187-afb1-cb5a67607a8c",
   "metadata": {},
   "outputs": [
    {
     "data": {
      "text/plain": [
       "array([17.49, 12.99, 11.89, 12.  , 10.04,  7.24])"
      ]
     },
     "execution_count": 77,
     "metadata": {},
     "output_type": "execute_result"
    }
   ],
   "source": [
    "boston_price_array + london_price_array"
   ]
  },
  {
   "cell_type": "code",
   "execution_count": 79,
   "id": "710980aa-e1d1-4efc-83df-88f27e64c313",
   "metadata": {},
   "outputs": [
    {
     "data": {
      "text/plain": [
       "array([74.925 , 39.95  , 32.956 , 35.    , 23.5875, 11.2275])"
      ]
     },
     "execution_count": 79,
     "metadata": {},
     "output_type": "execute_result"
    }
   ],
   "source": [
    "boston_price_array * london_price_array"
   ]
  },
  {
   "cell_type": "code",
   "execution_count": 81,
   "id": "75ee1c6c-2774-45b7-a0b8-f87782a8cf3b",
   "metadata": {},
   "outputs": [
    {
     "data": {
      "text/plain": [
       "array([1.332     , 1.598     , 1.70227273, 1.4       , 1.67733333,\n",
       "       2.21777778])"
      ]
     },
     "execution_count": 81,
     "metadata": {},
     "output_type": "execute_result"
    }
   ],
   "source": [
    "boston_price_array / london_price_array"
   ]
  },
  {
   "cell_type": "code",
   "execution_count": null,
   "id": "338f4e56-0b5a-420e-977a-c84c020c9784",
   "metadata": {},
   "outputs": [],
   "source": []
  }
 ],
 "metadata": {
  "kernelspec": {
   "display_name": "Python 3 (ipykernel)",
   "language": "python",
   "name": "python3"
  },
  "language_info": {
   "codemirror_mode": {
    "name": "ipython",
    "version": 3
   },
   "file_extension": ".py",
   "mimetype": "text/x-python",
   "name": "python",
   "nbconvert_exporter": "python",
   "pygments_lexer": "ipython3",
   "version": "3.12.4"
  }
 },
 "nbformat": 4,
 "nbformat_minor": 5
}
